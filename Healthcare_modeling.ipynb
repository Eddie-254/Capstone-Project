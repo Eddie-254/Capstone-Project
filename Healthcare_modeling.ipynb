{
 "cells": [
  {
   "cell_type": "markdown",
   "metadata": {},
   "source": [
    "# `Modeling`\n",
    "\n"
   ]
  },
  {
   "cell_type": "code",
   "execution_count": 121,
   "metadata": {},
   "outputs": [],
   "source": [
    "#pip install xgboost"
   ]
  },
  {
   "cell_type": "code",
   "execution_count": 122,
   "metadata": {},
   "outputs": [],
   "source": [
    "# Import necessary libraries\n",
    "from sklearn.metrics import precision_score, recall_score, f1_score, classification_report, accuracy_score\n",
    "from sklearn.model_selection import train_test_split, GridSearchCV, cross_val_score\n",
    "from sklearn.ensemble import RandomForestClassifier, GradientBoostingClassifier\n",
    "from xgboost import XGBClassifier\n",
    "from sklearn.linear_model import LogisticRegression\n",
    "from sklearn.tree import DecisionTreeClassifier\n",
    "from sklearn.svm import SVC\n",
    "from sklearn.metrics import roc_curve, auc, confusion_matrix, ConfusionMatrixDisplay, roc_auc_score\n",
    "from imblearn.combine import SMOTETomek\n",
    "from sklearn.neighbors import KNeighborsClassifier\n",
    "import pandas as pd\n",
    "import matplotlib.pyplot as plt\n",
    "import seaborn as sns\n",
    "import numpy as np\n",
    "import random \n"
   ]
  },
  {
   "cell_type": "code",
   "execution_count": 123,
   "metadata": {},
   "outputs": [
    {
     "data": {
      "text/html": [
       "<div>\n",
       "<style scoped>\n",
       "    .dataframe tbody tr th:only-of-type {\n",
       "        vertical-align: middle;\n",
       "    }\n",
       "\n",
       "    .dataframe tbody tr th {\n",
       "        vertical-align: top;\n",
       "    }\n",
       "\n",
       "    .dataframe thead th {\n",
       "        text-align: right;\n",
       "    }\n",
       "</style>\n",
       "<table border=\"1\" class=\"dataframe\">\n",
       "  <thead>\n",
       "    <tr style=\"text-align: right;\">\n",
       "      <th></th>\n",
       "      <th>Provider</th>\n",
       "      <th>inp_out</th>\n",
       "      <th>inp_out.1</th>\n",
       "      <th>ClmAdmitDiagnosisCode</th>\n",
       "      <th>DiagnosisGroupCode</th>\n",
       "      <th>AttendingPhysician</th>\n",
       "      <th>OperatingPhysician</th>\n",
       "      <th>OtherPhysician</th>\n",
       "      <th>ChronicCond_Alzheimer</th>\n",
       "      <th>ChronicCond_Heartfailure</th>\n",
       "      <th>...</th>\n",
       "      <th>settlement_days.1</th>\n",
       "      <th>Days_Admit</th>\n",
       "      <th>Total_deductible</th>\n",
       "      <th>Total_deductible.1</th>\n",
       "      <th>Total_reimbursible</th>\n",
       "      <th>Total_reimbursible.1</th>\n",
       "      <th>ClaimID</th>\n",
       "      <th>State</th>\n",
       "      <th>County</th>\n",
       "      <th>PotentialFraud</th>\n",
       "    </tr>\n",
       "  </thead>\n",
       "  <tbody>\n",
       "    <tr>\n",
       "      <th>0</th>\n",
       "      <td>PRV51001</td>\n",
       "      <td>20</td>\n",
       "      <td>5</td>\n",
       "      <td>11</td>\n",
       "      <td>5</td>\n",
       "      <td>14</td>\n",
       "      <td>5</td>\n",
       "      <td>8</td>\n",
       "      <td>15</td>\n",
       "      <td>19</td>\n",
       "      <td>...</td>\n",
       "      <td>0</td>\n",
       "      <td>1.000000</td>\n",
       "      <td>1361.040000</td>\n",
       "      <td>34026</td>\n",
       "      <td>20221.200000</td>\n",
       "      <td>505530</td>\n",
       "      <td>25</td>\n",
       "      <td>1</td>\n",
       "      <td>7</td>\n",
       "      <td>0</td>\n",
       "    </tr>\n",
       "    <tr>\n",
       "      <th>1</th>\n",
       "      <td>PRV51003</td>\n",
       "      <td>70</td>\n",
       "      <td>62</td>\n",
       "      <td>58</td>\n",
       "      <td>58</td>\n",
       "      <td>44</td>\n",
       "      <td>7</td>\n",
       "      <td>22</td>\n",
       "      <td>56</td>\n",
       "      <td>80</td>\n",
       "      <td>...</td>\n",
       "      <td>0</td>\n",
       "      <td>2.424242</td>\n",
       "      <td>1668.545455</td>\n",
       "      <td>220248</td>\n",
       "      <td>10246.363636</td>\n",
       "      <td>1352520</td>\n",
       "      <td>132</td>\n",
       "      <td>3</td>\n",
       "      <td>23</td>\n",
       "      <td>1</td>\n",
       "    </tr>\n",
       "    <tr>\n",
       "      <th>2</th>\n",
       "      <td>PRV51004</td>\n",
       "      <td>149</td>\n",
       "      <td>0</td>\n",
       "      <td>25</td>\n",
       "      <td>0</td>\n",
       "      <td>38</td>\n",
       "      <td>19</td>\n",
       "      <td>26</td>\n",
       "      <td>64</td>\n",
       "      <td>88</td>\n",
       "      <td>...</td>\n",
       "      <td>0</td>\n",
       "      <td>0.000000</td>\n",
       "      <td>1057.704698</td>\n",
       "      <td>157598</td>\n",
       "      <td>6546.778523</td>\n",
       "      <td>975470</td>\n",
       "      <td>149</td>\n",
       "      <td>9</td>\n",
       "      <td>28</td>\n",
       "      <td>0</td>\n",
       "    </tr>\n",
       "    <tr>\n",
       "      <th>3</th>\n",
       "      <td>PRV51005</td>\n",
       "      <td>1164</td>\n",
       "      <td>0</td>\n",
       "      <td>158</td>\n",
       "      <td>0</td>\n",
       "      <td>6</td>\n",
       "      <td>6</td>\n",
       "      <td>4</td>\n",
       "      <td>426</td>\n",
       "      <td>679</td>\n",
       "      <td>...</td>\n",
       "      <td>0</td>\n",
       "      <td>0.000000</td>\n",
       "      <td>1013.544674</td>\n",
       "      <td>1179766</td>\n",
       "      <td>5531.168385</td>\n",
       "      <td>6438280</td>\n",
       "      <td>1165</td>\n",
       "      <td>4</td>\n",
       "      <td>26</td>\n",
       "      <td>1</td>\n",
       "    </tr>\n",
       "    <tr>\n",
       "      <th>4</th>\n",
       "      <td>PRV51007</td>\n",
       "      <td>69</td>\n",
       "      <td>3</td>\n",
       "      <td>17</td>\n",
       "      <td>3</td>\n",
       "      <td>10</td>\n",
       "      <td>5</td>\n",
       "      <td>7</td>\n",
       "      <td>26</td>\n",
       "      <td>40</td>\n",
       "      <td>...</td>\n",
       "      <td>0</td>\n",
       "      <td>0.222222</td>\n",
       "      <td>914.722222</td>\n",
       "      <td>65860</td>\n",
       "      <td>4779.722222</td>\n",
       "      <td>344140</td>\n",
       "      <td>72</td>\n",
       "      <td>2</td>\n",
       "      <td>6</td>\n",
       "      <td>0</td>\n",
       "    </tr>\n",
       "  </tbody>\n",
       "</table>\n",
       "<p>5 rows × 41 columns</p>\n",
       "</div>"
      ],
      "text/plain": [
       "   Provider  inp_out  inp_out.1  ClmAdmitDiagnosisCode  DiagnosisGroupCode  \\\n",
       "0  PRV51001       20          5                     11                   5   \n",
       "1  PRV51003       70         62                     58                  58   \n",
       "2  PRV51004      149          0                     25                   0   \n",
       "3  PRV51005     1164          0                    158                   0   \n",
       "4  PRV51007       69          3                     17                   3   \n",
       "\n",
       "   AttendingPhysician  OperatingPhysician  OtherPhysician  \\\n",
       "0                  14                   5               8   \n",
       "1                  44                   7              22   \n",
       "2                  38                  19              26   \n",
       "3                   6                   6               4   \n",
       "4                  10                   5               7   \n",
       "\n",
       "   ChronicCond_Alzheimer  ChronicCond_Heartfailure  ...  settlement_days.1  \\\n",
       "0                     15                        19  ...                  0   \n",
       "1                     56                        80  ...                  0   \n",
       "2                     64                        88  ...                  0   \n",
       "3                    426                       679  ...                  0   \n",
       "4                     26                        40  ...                  0   \n",
       "\n",
       "   Days_Admit  Total_deductible  Total_deductible.1  Total_reimbursible  \\\n",
       "0    1.000000       1361.040000               34026        20221.200000   \n",
       "1    2.424242       1668.545455              220248        10246.363636   \n",
       "2    0.000000       1057.704698              157598         6546.778523   \n",
       "3    0.000000       1013.544674             1179766         5531.168385   \n",
       "4    0.222222        914.722222               65860         4779.722222   \n",
       "\n",
       "   Total_reimbursible.1  ClaimID  State  County  PotentialFraud  \n",
       "0                505530       25      1       7               0  \n",
       "1               1352520      132      3      23               1  \n",
       "2                975470      149      9      28               0  \n",
       "3               6438280     1165      4      26               1  \n",
       "4                344140       72      2       6               0  \n",
       "\n",
       "[5 rows x 41 columns]"
      ]
     },
     "execution_count": 123,
     "metadata": {},
     "output_type": "execute_result"
    }
   ],
   "source": [
    "provider = pd.read_csv('provider.csv')\n",
    "provider.drop(provider.columns[0], axis=1, inplace=True)\n",
    "provider.head()"
   ]
  },
  {
   "cell_type": "markdown",
   "metadata": {},
   "source": [
    " Train-Test Split for Potential Fraud Prediction"
   ]
  },
  {
   "cell_type": "code",
   "execution_count": 124,
   "metadata": {},
   "outputs": [
    {
     "name": "stdout",
     "output_type": "stream",
     "text": [
      "X_train shape: (4057, 39)\n",
      "X_test shape: (1353, 39)\n",
      "y_train shape: (4057,)\n",
      "y_test shape: (1353,)\n"
     ]
    }
   ],
   "source": [
    "\n",
    "# Perform train-test split for potential fraud prediction\n",
    "X = provider.drop(columns = ['PotentialFraud', 'Provider'], axis = 1)\n",
    "y = provider['PotentialFraud']\n",
    "\n",
    "X_train, X_test, y_train, y_test = train_test_split(X, y, random_state = 42)\n",
    "\n",
    "print(\"X_train shape:\", X_train.shape)\n",
    "print(\"X_test shape:\", X_test.shape)\n",
    "print(\"y_train shape:\", y_train.shape)\n",
    "print(\"y_test shape:\", y_test.shape)"
   ]
  },
  {
   "cell_type": "markdown",
   "metadata": {},
   "source": [
    "Creating functions \n"
   ]
  },
  {
   "cell_type": "code",
   "execution_count": 125,
   "metadata": {},
   "outputs": [],
   "source": [
    "def create_model(X_train, y_train, X_test, classifier):\n",
    "    \"\"\"Function that takes in the data, creates the model using the classifier, and performs prediction\"\"\"\n",
    "    # Instantiate the model\n",
    "    model = classifier \n",
    "    \n",
    "    # Fit the model on the training data\n",
    "    model.fit(X_train, y_train)\n",
    "    \n",
    "    # Make predictions on the test data\n",
    "    y_pred = model.predict(X_test)\n",
    "    \n",
    "    return model, y_pred"
   ]
  },
  {
   "cell_type": "code",
   "execution_count": 126,
   "metadata": {},
   "outputs": [],
   "source": [
    "#function for evaluation metrics \n",
    "def evaluation(y_test, y_pred):\n",
    "    \"\"\"\n",
    "    A function to print evaluation metrics and classification report of a model\n",
    "    \"\"\"\n",
    "    auc = roc_auc_score(y_test, y_pred)\n",
    "    print(f\"The model has an AUC score of {auc:.2%}\")\n",
    "    print(\"-----------------------------------------------\")\n",
    "    print(f\"The model's recall rate is {recall_score(y_test, y_pred, average='weighted'):.2%}\")\n",
    "    print(\"-----------------------------------------------\")\n",
    "    print(f\"The model's precision is {precision_score(y_test, y_pred, average='weighted'):.2%}\")\n",
    "    print(\"-----------------------------------------------\")\n",
    "    print(f\"The model's F1 score is {f1_score(y_test, y_pred, average='weighted'):.2%}\")\n",
    "    print(\"-----------------------------------------------\")\n",
    "    print(\"Classification Report:\")\n",
    "    print(classification_report(y_test, y_pred))"
   ]
  },
  {
   "cell_type": "code",
   "execution_count": 127,
   "metadata": {},
   "outputs": [],
   "source": [
    "def display_confusion_matrix(y_test, y_pred, cmap='GnBu'):\n",
    "    \"\"\"Display confusion matrix\"\"\"\n",
    "    cm = confusion_matrix(y_test, y_pred)\n",
    "    fig, ax = plt.subplots()\n",
    "    im = ax.imshow(cm, interpolation='nearest', cmap=cmap)\n",
    "    ax.figure.colorbar(im, ax=ax)\n",
    "    ax.set(xticks=np.arange(cm.shape[1]),\n",
    "           yticks=np.arange(cm.shape[0]),\n",
    "           xticklabels=['not_fraud', 'fraud'],\n",
    "           yticklabels=['not_fraud', 'fraud'],\n",
    "           xlabel='Predicted label',\n",
    "           ylabel='True label',\n",
    "           title='Confusion Matrix')\n",
    "    plt.setp(ax.get_xticklabels(), rotation=45, ha=\"right\", rotation_mode=\"anchor\")\n",
    "    fmt = '.4g'\n",
    "    thresh = cm.max() / 2.\n",
    "    for i in range(cm.shape[0]):\n",
    "        for j in range(cm.shape[1]):\n",
    "            ax.text(j, i, format(cm[i, j], fmt),\n",
    "                    ha=\"center\", va=\"center\",\n",
    "                    color=\"white\" if cm[i, j] > thresh else \"darkblue\")\n",
    "    ax.grid(False)\n",
    "    fig.tight_layout()\n",
    "    plt.show()"
   ]
  },
  {
   "cell_type": "code",
   "execution_count": 128,
   "metadata": {},
   "outputs": [],
   "source": [
    "def plot_roc_curve(model, X_test, y_test):\n",
    "    \"\"\"Plot ROC curve for a binary classification model\"\"\"\n",
    "    if hasattr(model, \"predict_proba\"):\n",
    "        y_score = model.predict_proba(X_test)[:, 1]  # Use predict_proba if available\n",
    "    else:\n",
    "        y_score = model.decision_function(X_test)  # Use decision_function as an alternative\n",
    "    \n",
    "    # Calculate False Positive Rate (FPR) and True Positive Rate (TPR) using roc_curve\n",
    "    fpr, tpr, thresholds = roc_curve(y_test, y_score)\n",
    "    \n",
    "    # Plot the ROC curve\n",
    "    plt.plot(fpr, tpr, color='darkorange', lw=2, label='ROC curve')\n",
    "    plt.plot([0, 1], [0, 1], color='navy', lw=2, linestyle='--')\n",
    "    plt.xlim([0.0, 1.0])\n",
    "    plt.ylim([0.0, 1.05])\n",
    "    plt.yticks([i/20.0 for i in range(21)])\n",
    "    plt.xlabel('False Positive Rate')\n",
    "    plt.ylabel('True Positive Rate')\n",
    "    plt.title('Receiver Operating Characteristic (ROC) Curve')\n",
    "    plt.legend(loc='lower right')\n",
    "    plt.show()"
   ]
  },
  {
   "cell_type": "markdown",
   "metadata": {},
   "source": [
    "## `Baseline Model`\n",
    "\n",
    "#### Building a random model"
   ]
  },
  {
   "cell_type": "code",
   "execution_count": 129,
   "metadata": {},
   "outputs": [
    {
     "name": "stdout",
     "output_type": "stream",
     "text": [
      "Training Accuracy: 50.51%\n",
      "Test Accuracy: 50.85%\n"
     ]
    }
   ],
   "source": [
    "train_data_len = X_train.shape[0]\n",
    "\n",
    "# Define the list of possible output values\n",
    "op_list = [0, 1]\n",
    "\n",
    "# Initialize an array to store the predicted values\n",
    "train_predicted_y = np.zeros(train_data_len)\n",
    "\n",
    "# Generate random predictions for the training set\n",
    "for i in range(train_data_len):\n",
    "    train_predicted_y[i] = random.choice(op_list)\n",
    "\n",
    "# Evaluate the performance of the random model on the training set\n",
    "train_accuracy = np.mean(train_predicted_y == y_train)\n",
    "print(\"Training Accuracy: {:.2f}%\".format(train_accuracy * 100))\n",
    "\n",
    "# Generate random predictions for the test set\n",
    "test_data_len = X_test.shape[0]\n",
    "test_predicted_y = np.zeros(test_data_len)\n",
    "for i in range(test_data_len):\n",
    "    test_predicted_y[i] = random.choice(op_list)\n",
    "\n",
    "# Evaluate the performance of the random model on the test set\n",
    "test_accuracy = np.mean(test_predicted_y == y_test)\n",
    "print(\"Test Accuracy: {:.2f}%\".format(test_accuracy * 100))"
   ]
  },
  {
   "cell_type": "markdown",
   "metadata": {},
   "source": [
    "### `Checking and Handling Class Imbalance`\n",
    "\n",
    "#### Sampling Techniques \n",
    "\n",
    "- Undersampling technique\n",
    "\n",
    "- oversampling technique\n",
    "\n",
    "- Hybrid sampling technique"
   ]
  },
  {
   "cell_type": "code",
   "execution_count": 130,
   "metadata": {},
   "outputs": [
    {
     "name": "stdout",
     "output_type": "stream",
     "text": [
      "The number of classes before fit: Counter({0: 3680, 1: 377})\n",
      "The number of classes after fit: Counter({0: 471, 1: 377})\n"
     ]
    }
   ],
   "source": [
    "# undersampling technique\n",
    "from imblearn.under_sampling import NearMiss\n",
    "from collections import Counter\n",
    "\n",
    "# Create an instance of NearMiss with a sampling ratio of 0.8\n",
    "ns = NearMiss(sampling_strategy=0.8)\n",
    "\n",
    "# Apply undersampling to the training data\n",
    "x_train_ns, y_train_ns = ns.fit_resample(X_train, y_train)\n",
    "\n",
    "# Print the class distribution before and after undersampling\n",
    "print(\"The number of classes before fit: {}\".format(Counter(y_train)))\n",
    "print(\"The number of classes after fit: {}\".format(Counter(y_train_ns)))\n"
   ]
  },
  {
   "cell_type": "markdown",
   "metadata": {},
   "source": [
    "`Decision Tree with undersampling`"
   ]
  },
  {
   "cell_type": "code",
   "execution_count": 131,
   "metadata": {},
   "outputs": [],
   "source": [
    "model, y_pred = create_model(x_train_ns, y_train_ns, X_test, classifier=DecisionTreeClassifier(random_state=42))\n"
   ]
  },
  {
   "cell_type": "code",
   "execution_count": 132,
   "metadata": {},
   "outputs": [
    {
     "name": "stdout",
     "output_type": "stream",
     "text": [
      "The model has an AUC score of 64.86%\n",
      "-----------------------------------------------\n",
      "The model's recall rate is 47.08%\n",
      "-----------------------------------------------\n",
      "The model's precision is 88.94%\n",
      "-----------------------------------------------\n",
      "The model's F1 score is 56.06%\n",
      "-----------------------------------------------\n",
      "Classification Report:\n",
      "              precision    recall  f1-score   support\n",
      "\n",
      "           0       0.97      0.43      0.59      1224\n",
      "           1       0.14      0.87      0.24       129\n",
      "\n",
      "    accuracy                           0.47      1353\n",
      "   macro avg       0.55      0.65      0.42      1353\n",
      "weighted avg       0.89      0.47      0.56      1353\n",
      "\n"
     ]
    }
   ],
   "source": [
    "evaluation(y_test, y_pred)"
   ]
  },
  {
   "cell_type": "markdown",
   "metadata": {},
   "source": [
    "`Random Forest with undersampling`"
   ]
  },
  {
   "cell_type": "code",
   "execution_count": 133,
   "metadata": {},
   "outputs": [],
   "source": [
    "model, y_pred = create_model(x_train_ns, y_train_ns, X_test, classifier=RandomForestClassifier(random_state=42))\n"
   ]
  },
  {
   "cell_type": "code",
   "execution_count": 134,
   "metadata": {},
   "outputs": [
    {
     "name": "stdout",
     "output_type": "stream",
     "text": [
      "The model has an AUC score of 68.06%\n",
      "-----------------------------------------------\n",
      "The model's recall rate is 52.25%\n",
      "-----------------------------------------------\n",
      "The model's precision is 89.54%\n",
      "-----------------------------------------------\n",
      "The model's F1 score is 61.07%\n",
      "-----------------------------------------------\n",
      "Classification Report:\n",
      "              precision    recall  f1-score   support\n",
      "\n",
      "           0       0.97      0.49      0.65      1224\n",
      "           1       0.15      0.88      0.26       129\n",
      "\n",
      "    accuracy                           0.52      1353\n",
      "   macro avg       0.56      0.68      0.45      1353\n",
      "weighted avg       0.90      0.52      0.61      1353\n",
      "\n"
     ]
    }
   ],
   "source": [
    "evaluation(y_test, y_pred)"
   ]
  },
  {
   "cell_type": "code",
   "execution_count": 135,
   "metadata": {},
   "outputs": [
    {
     "name": "stdout",
     "output_type": "stream",
     "text": [
      "The number of classes before fit: Counter({0: 3680, 1: 377})\n",
      "The number of classes after fit: Counter({0: 3680, 1: 2760})\n"
     ]
    }
   ],
   "source": [
    "# oversampling technique\n",
    "\n",
    "from collections import Counter\n",
    "from imblearn.over_sampling import RandomOverSampler\n",
    "\n",
    "# Assuming X_train and y_train are defined and assigned values correctly\n",
    "\n",
    "os = RandomOverSampler(sampling_strategy=0.75)\n",
    "x_train_os, y_train_os = os.fit_resample(X_train, y_train)\n",
    "\n",
    "print(\"The number of classes before fit: {}\".format(Counter(y_train)))\n",
    "print(\"The number of classes after fit: {}\".format(Counter(y_train_os)))\n"
   ]
  },
  {
   "cell_type": "markdown",
   "metadata": {},
   "source": [
    "`Decision tree with oversampling technique`"
   ]
  },
  {
   "cell_type": "code",
   "execution_count": 136,
   "metadata": {},
   "outputs": [],
   "source": [
    "model, y_pred = create_model(x_train_os, y_train_os, X_test, classifier=DecisionTreeClassifier(random_state=42))\n"
   ]
  },
  {
   "cell_type": "code",
   "execution_count": 137,
   "metadata": {},
   "outputs": [
    {
     "name": "stdout",
     "output_type": "stream",
     "text": [
      "The model has an AUC score of 69.03%\n",
      "-----------------------------------------------\n",
      "The model's recall rate is 90.39%\n",
      "-----------------------------------------------\n",
      "The model's precision is 89.80%\n",
      "-----------------------------------------------\n",
      "The model's F1 score is 90.07%\n",
      "-----------------------------------------------\n",
      "Classification Report:\n",
      "              precision    recall  f1-score   support\n",
      "\n",
      "           0       0.94      0.95      0.95      1224\n",
      "           1       0.50      0.43      0.46       129\n",
      "\n",
      "    accuracy                           0.90      1353\n",
      "   macro avg       0.72      0.69      0.70      1353\n",
      "weighted avg       0.90      0.90      0.90      1353\n",
      "\n"
     ]
    }
   ],
   "source": [
    "evaluation(y_test, y_pred)"
   ]
  },
  {
   "cell_type": "markdown",
   "metadata": {},
   "source": [
    "`random forest with over sampling technique`"
   ]
  },
  {
   "cell_type": "code",
   "execution_count": 138,
   "metadata": {},
   "outputs": [],
   "source": [
    "model, y_pred = create_model(x_train_os, y_train_os, X_test, classifier=RandomForestClassifier(random_state=42))\n"
   ]
  },
  {
   "cell_type": "code",
   "execution_count": 139,
   "metadata": {},
   "outputs": [
    {
     "name": "stdout",
     "output_type": "stream",
     "text": [
      "The model has an AUC score of 72.91%\n",
      "-----------------------------------------------\n",
      "The model's recall rate is 92.39%\n",
      "-----------------------------------------------\n",
      "The model's precision is 91.71%\n",
      "-----------------------------------------------\n",
      "The model's F1 score is 91.95%\n",
      "-----------------------------------------------\n",
      "Classification Report:\n",
      "              precision    recall  f1-score   support\n",
      "\n",
      "           0       0.95      0.97      0.96      1224\n",
      "           1       0.63      0.49      0.55       129\n",
      "\n",
      "    accuracy                           0.92      1353\n",
      "   macro avg       0.79      0.73      0.75      1353\n",
      "weighted avg       0.92      0.92      0.92      1353\n",
      "\n"
     ]
    }
   ],
   "source": [
    "evaluation(y_test, y_pred)"
   ]
  },
  {
   "cell_type": "markdown",
   "metadata": {},
   "source": [
    "`Hybrid sampling technique`"
   ]
  },
  {
   "cell_type": "code",
   "execution_count": 140,
   "metadata": {},
   "outputs": [
    {
     "name": "stdout",
     "output_type": "stream",
     "text": [
      "The number of classes before fit: Counter({0: 3680, 1: 377})\n",
      "The number of classes after fit: Counter({0: 3608, 1: 3608})\n"
     ]
    }
   ],
   "source": [
    "st = SMOTETomek()\n",
    "x_train_st, y_train_st = st.fit_resample(X_train, y_train)\n",
    "\n",
    "print(\"The number of classes before fit: {}\".format(Counter(y_train)))\n",
    "print(\"The number of classes after fit: {}\".format(Counter(y_train_st)))"
   ]
  },
  {
   "cell_type": "markdown",
   "metadata": {},
   "source": [
    "`Decision tree Hybrid sampling technique`"
   ]
  },
  {
   "cell_type": "code",
   "execution_count": 141,
   "metadata": {},
   "outputs": [],
   "source": [
    "model, y_pred = create_model(x_train_st, y_train_st, X_test, classifier=DecisionTreeClassifier(random_state=42))\n"
   ]
  },
  {
   "cell_type": "code",
   "execution_count": 142,
   "metadata": {},
   "outputs": [
    {
     "name": "stdout",
     "output_type": "stream",
     "text": [
      "The model has an AUC score of 74.29%\n",
      "-----------------------------------------------\n",
      "The model's recall rate is 87.36%\n",
      "-----------------------------------------------\n",
      "The model's precision is 89.98%\n",
      "-----------------------------------------------\n",
      "The model's F1 score is 88.43%\n",
      "-----------------------------------------------\n",
      "Classification Report:\n",
      "              precision    recall  f1-score   support\n",
      "\n",
      "           0       0.95      0.90      0.93      1224\n",
      "           1       0.39      0.58      0.47       129\n",
      "\n",
      "    accuracy                           0.87      1353\n",
      "   macro avg       0.67      0.74      0.70      1353\n",
      "weighted avg       0.90      0.87      0.88      1353\n",
      "\n"
     ]
    }
   ],
   "source": [
    "evaluation(y_test, y_pred)"
   ]
  },
  {
   "cell_type": "markdown",
   "metadata": {},
   "source": [
    "`Random Forest hybrid sampling technique`"
   ]
  },
  {
   "cell_type": "code",
   "execution_count": 143,
   "metadata": {},
   "outputs": [],
   "source": [
    "model, y_pred = create_model(x_train_st, y_train_st, X_test, classifier=RandomForestClassifier(random_state=42))\n"
   ]
  },
  {
   "cell_type": "code",
   "execution_count": 144,
   "metadata": {},
   "outputs": [
    {
     "name": "stdout",
     "output_type": "stream",
     "text": [
      "The model has an AUC score of 79.66%\n",
      "-----------------------------------------------\n",
      "The model's recall rate is 90.17%\n",
      "-----------------------------------------------\n",
      "The model's precision is 91.82%\n",
      "-----------------------------------------------\n",
      "The model's F1 score is 90.83%\n",
      "-----------------------------------------------\n",
      "Classification Report:\n",
      "              precision    recall  f1-score   support\n",
      "\n",
      "           0       0.96      0.93      0.94      1224\n",
      "           1       0.49      0.67      0.56       129\n",
      "\n",
      "    accuracy                           0.90      1353\n",
      "   macro avg       0.73      0.80      0.75      1353\n",
      "weighted avg       0.92      0.90      0.91      1353\n",
      "\n"
     ]
    }
   ],
   "source": [
    "evaluation(y_test, y_pred)"
   ]
  },
  {
   "cell_type": "markdown",
   "metadata": {},
   "source": [
    "Scaling the Numerical Features \n"
   ]
  },
  {
   "cell_type": "code",
   "execution_count": 145,
   "metadata": {},
   "outputs": [],
   "source": [
    "from sklearn.preprocessing import StandardScaler\n",
    "\n",
    "# Instantiate the scaler\n",
    "scaler = StandardScaler()\n",
    "\n",
    "# Fit the scaler on the training data and transform both training and test data\n",
    "X_train_scaled = scaler.fit_transform(x_train_st)\n",
    "X_test_scaled = scaler.transform(X_test)"
   ]
  },
  {
   "cell_type": "markdown",
   "metadata": {},
   "source": [
    "## 2. `Gradientboost model`"
   ]
  },
  {
   "cell_type": "code",
   "execution_count": 146,
   "metadata": {},
   "outputs": [],
   "source": [
    "model, y_pred = create_model(X_train_scaled, y_train_st, X_test_scaled, classifier=GradientBoostingClassifier(random_state=42))\n"
   ]
  },
  {
   "cell_type": "code",
   "execution_count": 147,
   "metadata": {},
   "outputs": [
    {
     "name": "stdout",
     "output_type": "stream",
     "text": [
      "The model has an AUC score of 84.10%\n",
      "-----------------------------------------------\n",
      "The model's recall rate is 88.17%\n",
      "-----------------------------------------------\n",
      "The model's precision is 92.42%\n",
      "-----------------------------------------------\n",
      "The model's F1 score is 89.63%\n",
      "-----------------------------------------------\n",
      "Classification Report:\n",
      "              precision    recall  f1-score   support\n",
      "\n",
      "           0       0.98      0.89      0.93      1224\n",
      "           1       0.43      0.79      0.56       129\n",
      "\n",
      "    accuracy                           0.88      1353\n",
      "   macro avg       0.70      0.84      0.75      1353\n",
      "weighted avg       0.92      0.88      0.90      1353\n",
      "\n"
     ]
    }
   ],
   "source": [
    "evaluation(y_test, y_pred)"
   ]
  },
  {
   "cell_type": "code",
   "execution_count": 148,
   "metadata": {},
   "outputs": [
    {
     "data": {
      "image/png": "[encoded data removed]",
      "text/plain": [
       "<Figure size 432x288 with 1 Axes>"
      ]
     },
     "metadata": {
      "needs_background": "light"
     },
     "output_type": "display_data"
    }
   ],
   "source": [
    "plot_roc_curve(model, X_test_scaled, y_test)"
   ]
  },
  {
   "cell_type": "code",
   "execution_count": 149,
   "metadata": {},
   "outputs": [
    {
     "data": {
      "image/png": "[encoded data removed]",
      "text/plain": [
       "<Figure size 432x288 with 2 Axes>"
      ]
     },
     "metadata": {
      "needs_background": "light"
     },
     "output_type": "display_data"
    }
   ],
   "source": [
    "display_confusion_matrix(y_test, y_pred)"
   ]
  },
  {
   "cell_type": "markdown",
   "metadata": {},
   "source": [
    "## 3. `Decision tree Model`"
   ]
  },
  {
   "cell_type": "code",
   "execution_count": 150,
   "metadata": {},
   "outputs": [],
   "source": [
    "model, y_pred = create_model(X_train_scaled, y_train_st, X_test_scaled, classifier=DecisionTreeClassifier(random_state=42))\n"
   ]
  },
  {
   "cell_type": "code",
   "execution_count": 151,
   "metadata": {},
   "outputs": [
    {
     "name": "stdout",
     "output_type": "stream",
     "text": [
      "The model has an AUC score of 74.33%\n",
      "-----------------------------------------------\n",
      "The model's recall rate is 87.44%\n",
      "-----------------------------------------------\n",
      "The model's precision is 90.01%\n",
      "-----------------------------------------------\n",
      "The model's F1 score is 88.49%\n",
      "-----------------------------------------------\n",
      "Classification Report:\n",
      "              precision    recall  f1-score   support\n",
      "\n",
      "           0       0.95      0.91      0.93      1224\n",
      "           1       0.39      0.58      0.47       129\n",
      "\n",
      "    accuracy                           0.87      1353\n",
      "   macro avg       0.67      0.74      0.70      1353\n",
      "weighted avg       0.90      0.87      0.88      1353\n",
      "\n"
     ]
    }
   ],
   "source": [
    "evaluation(y_test, y_pred)"
   ]
  },
  {
   "cell_type": "code",
   "execution_count": 152,
   "metadata": {},
   "outputs": [
    {
     "data": {
      "image/png": "[encoded data removed]",
      "text/plain": [
       "<Figure size 432x288 with 1 Axes>"
      ]
     },
     "metadata": {
      "needs_background": "light"
     },
     "output_type": "display_data"
    }
   ],
   "source": [
    "plot_roc_curve(model, X_test_scaled, y_test)"
   ]
  },
  {
   "cell_type": "code",
   "execution_count": 153,
   "metadata": {},
   "outputs": [
    {
     "data": {
      "image/png": "[encoded data removed]",
      "text/plain": [
       "<Figure size 432x288 with 2 Axes>"
      ]
     },
     "metadata": {
      "needs_background": "light"
     },
     "output_type": "display_data"
    }
   ],
   "source": [
    "\n",
    "display_confusion_matrix(y_test, y_pred)"
   ]
  },
  {
   "cell_type": "markdown",
   "metadata": {},
   "source": [
    "## 4. `Random Forest Model`"
   ]
  },
  {
   "cell_type": "code",
   "execution_count": 154,
   "metadata": {},
   "outputs": [],
   "source": [
    "model, y_pred = create_model(X_train_scaled, y_train_st, X_test_scaled, classifier=RandomForestClassifier(random_state=42))\n"
   ]
  },
  {
   "cell_type": "code",
   "execution_count": 155,
   "metadata": {},
   "outputs": [
    {
     "name": "stdout",
     "output_type": "stream",
     "text": [
      "The model has an AUC score of 79.62%\n",
      "-----------------------------------------------\n",
      "The model's recall rate is 90.10%\n",
      "-----------------------------------------------\n",
      "The model's precision is 91.79%\n",
      "-----------------------------------------------\n",
      "The model's F1 score is 90.77%\n",
      "-----------------------------------------------\n",
      "Classification Report:\n",
      "              precision    recall  f1-score   support\n",
      "\n",
      "           0       0.96      0.93      0.94      1224\n",
      "           1       0.49      0.67      0.56       129\n",
      "\n",
      "    accuracy                           0.90      1353\n",
      "   macro avg       0.72      0.80      0.75      1353\n",
      "weighted avg       0.92      0.90      0.91      1353\n",
      "\n"
     ]
    }
   ],
   "source": [
    "evaluation(y_test, y_pred)"
   ]
  },
  {
   "cell_type": "code",
   "execution_count": 156,
   "metadata": {},
   "outputs": [
    {
     "data": {
      "image/png": "[encoded data removed]",
      "text/plain": [
       "<Figure size 432x288 with 1 Axes>"
      ]
     },
     "metadata": {
      "needs_background": "light"
     },
     "output_type": "display_data"
    }
   ],
   "source": [
    "plot_roc_curve(model, X_test_scaled, y_test)"
   ]
  },
  {
   "cell_type": "code",
   "execution_count": 157,
   "metadata": {},
   "outputs": [
    {
     "data": {
      "image/png": "[encoded data removed]",
      "text/plain": [
       "<Figure size 432x288 with 2 Axes>"
      ]
     },
     "metadata": {
      "needs_background": "light"
     },
     "output_type": "display_data"
    }
   ],
   "source": [
    "display_confusion_matrix(y_test, y_pred)"
   ]
  },
  {
   "cell_type": "markdown",
   "metadata": {},
   "source": [
    "## 5. `SVM`"
   ]
  },
  {
   "cell_type": "code",
   "execution_count": 158,
   "metadata": {},
   "outputs": [],
   "source": [
    "model, y_pred = create_model(X_train_scaled, y_train_st, X_test_scaled, classifier=SVC(random_state=42))\n"
   ]
  },
  {
   "cell_type": "code",
   "execution_count": 159,
   "metadata": {},
   "outputs": [
    {
     "name": "stdout",
     "output_type": "stream",
     "text": [
      "The model has an AUC score of 85.30%\n",
      "-----------------------------------------------\n",
      "The model's recall rate is 87.21%\n",
      "-----------------------------------------------\n",
      "The model's precision is 92.60%\n",
      "-----------------------------------------------\n",
      "The model's F1 score is 88.99%\n",
      "-----------------------------------------------\n",
      "Classification Report:\n",
      "              precision    recall  f1-score   support\n",
      "\n",
      "           0       0.98      0.88      0.93      1224\n",
      "           1       0.41      0.83      0.55       129\n",
      "\n",
      "    accuracy                           0.87      1353\n",
      "   macro avg       0.70      0.85      0.74      1353\n",
      "weighted avg       0.93      0.87      0.89      1353\n",
      "\n"
     ]
    }
   ],
   "source": [
    "evaluation(y_test, y_pred)"
   ]
  },
  {
   "cell_type": "code",
   "execution_count": 160,
   "metadata": {},
   "outputs": [
    {
     "data": {
      "image/png": "[encoded data removed]",
      "text/plain": [
       "<Figure size 432x288 with 1 Axes>"
      ]
     },
     "metadata": {
      "needs_background": "light"
     },
     "output_type": "display_data"
    }
   ],
   "source": [
    "plot_roc_curve(model, X_test_scaled, y_test)"
   ]
  },
  {
   "cell_type": "code",
   "execution_count": 161,
   "metadata": {},
   "outputs": [
    {
     "data": {
      "image/png": "[encoded data removed]",
      "text/plain": [
       "<Figure size 432x288 with 2 Axes>"
      ]
     },
     "metadata": {
      "needs_background": "light"
     },
     "output_type": "display_data"
    }
   ],
   "source": [
    "display_confusion_matrix(y_test, y_pred)"
   ]
  },
  {
   "cell_type": "markdown",
   "metadata": {},
   "source": [
    "## 6. `XGBoost`"
   ]
  },
  {
   "cell_type": "code",
   "execution_count": 162,
   "metadata": {},
   "outputs": [],
   "source": [
    "model, y_pred = create_model(X_train_scaled, y_train_st, X_test_scaled, classifier=XGBClassifier(random_state=42))"
   ]
  },
  {
   "cell_type": "code",
   "execution_count": 163,
   "metadata": {},
   "outputs": [
    {
     "name": "stdout",
     "output_type": "stream",
     "text": [
      "The model has an AUC score of 79.29%\n",
      "-----------------------------------------------\n",
      "The model's recall rate is 90.76%\n",
      "-----------------------------------------------\n",
      "The model's precision is 91.93%\n",
      "-----------------------------------------------\n",
      "The model's F1 score is 91.25%\n",
      "-----------------------------------------------\n",
      "Classification Report:\n",
      "              precision    recall  f1-score   support\n",
      "\n",
      "           0       0.96      0.93      0.95      1224\n",
      "           1       0.51      0.65      0.57       129\n",
      "\n",
      "    accuracy                           0.91      1353\n",
      "   macro avg       0.74      0.79      0.76      1353\n",
      "weighted avg       0.92      0.91      0.91      1353\n",
      "\n"
     ]
    }
   ],
   "source": [
    "evaluation(y_test, y_pred)"
   ]
  },
  {
   "cell_type": "code",
   "execution_count": 164,
   "metadata": {},
   "outputs": [
    {
     "data": {
      "image/png": "[encoded data removed]",
      "text/plain": [
       "<Figure size 432x288 with 1 Axes>"
      ]
     },
     "metadata": {
      "needs_background": "light"
     },
     "output_type": "display_data"
    }
   ],
   "source": [
    "plot_roc_curve(model, X_test_scaled, y_test)"
   ]
  },
  {
   "cell_type": "code",
   "execution_count": 165,
   "metadata": {},
   "outputs": [
    {
     "data": {
      "image/png": "[encoded data removed]",
      "text/plain": [
       "<Figure size 432x288 with 2 Axes>"
      ]
     },
     "metadata": {
      "needs_background": "light"
     },
     "output_type": "display_data"
    }
   ],
   "source": [
    "display_confusion_matrix(y_test, y_pred)"
   ]
  },
  {
   "cell_type": "markdown",
   "metadata": {},
   "source": [
    "## 7. `KNN`"
   ]
  },
  {
   "cell_type": "code",
   "execution_count": 166,
   "metadata": {},
   "outputs": [],
   "source": [
    "model, y_pred = create_model(X_train_scaled, y_train_st, X_test_scaled, classifier=KNeighborsClassifier())"
   ]
  },
  {
   "cell_type": "code",
   "execution_count": 167,
   "metadata": {},
   "outputs": [
    {
     "name": "stdout",
     "output_type": "stream",
     "text": [
      "The model has an AUC score of 81.33%\n",
      "-----------------------------------------------\n",
      "The model's recall rate is 84.41%\n",
      "-----------------------------------------------\n",
      "The model's precision is 91.40%\n",
      "-----------------------------------------------\n",
      "The model's F1 score is 86.79%\n",
      "-----------------------------------------------\n",
      "Classification Report:\n",
      "              precision    recall  f1-score   support\n",
      "\n",
      "           0       0.97      0.85      0.91      1224\n",
      "           1       0.35      0.78      0.49       129\n",
      "\n",
      "    accuracy                           0.84      1353\n",
      "   macro avg       0.66      0.81      0.70      1353\n",
      "weighted avg       0.91      0.84      0.87      1353\n",
      "\n"
     ]
    }
   ],
   "source": [
    "evaluation(y_test, y_pred)"
   ]
  },
  {
   "cell_type": "code",
   "execution_count": 168,
   "metadata": {},
   "outputs": [
    {
     "data": {
      "image/png": "[encoded data removed]",
      "text/plain": [
       "<Figure size 432x288 with 1 Axes>"
      ]
     },
     "metadata": {
      "needs_background": "light"
     },
     "output_type": "display_data"
    }
   ],
   "source": [
    "plot_roc_curve(model, X_test_scaled, y_test)"
   ]
  },
  {
   "cell_type": "code",
   "execution_count": 169,
   "metadata": {},
   "outputs": [
    {
     "data": {
      "image/png": "[encoded data removed]",
      "text/plain": [
       "<Figure size 432x288 with 2 Axes>"
      ]
     },
     "metadata": {
      "needs_background": "light"
     },
     "output_type": "display_data"
    }
   ],
   "source": [
    "display_confusion_matrix(y_test, y_pred)"
   ]
  },
  {
   "cell_type": "code",
   "execution_count": null,
   "metadata": {},
   "outputs": [],
   "source": []
  }
 ],
 "metadata": {
  "kernelspec": {
   "display_name": "base",
   "language": "python",
   "name": "python3"
  },
  "language_info": {
   "codemirror_mode": {
    "name": "ipython",
    "version": 3
   },
   "file_extension": ".py",
   "mimetype": "text/x-python",
   "name": "python",
   "nbconvert_exporter": "python",
   "pygments_lexer": "ipython3",
   "version": "3.9.12"
  },
  "orig_nbformat": 4
 },
 "nbformat": 4,
 "nbformat_minor": 2
}
