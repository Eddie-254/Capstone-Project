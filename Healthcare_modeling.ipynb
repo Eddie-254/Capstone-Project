{
 "cells": [
  {
   "cell_type": "markdown",
   "metadata": {},
   "source": [
    "# `Modeling`\n",
    "\n"
   ]
  },
  {
   "cell_type": "code",
   "execution_count": 1,
   "metadata": {},
   "outputs": [],
   "source": [
    "#pip install xgboost"
   ]
  },
  {
   "cell_type": "markdown",
   "metadata": {},
   "source": [
    "`import necessary libraries`"
   ]
  },
  {
   "cell_type": "code",
   "execution_count": 2,
   "metadata": {},
   "outputs": [],
   "source": [
    "# Import necessary libraries\n",
    "from sklearn.metrics import precision_score, recall_score, f1_score, classification_report, accuracy_score\n",
    "from sklearn.model_selection import train_test_split, GridSearchCV, cross_val_score\n",
    "from sklearn.ensemble import RandomForestClassifier, GradientBoostingClassifier\n",
    "from xgboost import XGBClassifier\n",
    "from sklearn.linear_model import LogisticRegression\n",
    "from sklearn.tree import DecisionTreeClassifier\n",
    "from sklearn.svm import SVC\n",
    "from sklearn.metrics import roc_curve, auc, confusion_matrix, ConfusionMatrixDisplay, roc_auc_score\n",
    "from imblearn.combine import SMOTETomek\n",
    "from sklearn.neighbors import KNeighborsClassifier\n",
    "from sklearn.linear_model import LogisticRegression\n",
    "import pandas as pd\n",
    "import matplotlib.pyplot as plt\n",
    "import seaborn as sns\n",
    "import numpy as np\n",
    "import random \n"
   ]
  },
  {
   "cell_type": "code",
   "execution_count": 3,
   "metadata": {},
   "outputs": [
    {
     "data": {
      "text/html": [
       "<div>\n",
       "<style scoped>\n",
       "    .dataframe tbody tr th:only-of-type {\n",
       "        vertical-align: middle;\n",
       "    }\n",
       "\n",
       "    .dataframe tbody tr th {\n",
       "        vertical-align: top;\n",
       "    }\n",
       "\n",
       "    .dataframe thead th {\n",
       "        text-align: right;\n",
       "    }\n",
       "</style>\n",
       "<table border=\"1\" class=\"dataframe\">\n",
       "  <thead>\n",
       "    <tr style=\"text-align: right;\">\n",
       "      <th></th>\n",
       "      <th>Provider</th>\n",
       "      <th>inp_out</th>\n",
       "      <th>inp_out.1</th>\n",
       "      <th>ClmAdmitDiagnosisCode</th>\n",
       "      <th>DiagnosisGroupCode</th>\n",
       "      <th>AttendingPhysician</th>\n",
       "      <th>OperatingPhysician</th>\n",
       "      <th>OtherPhysician</th>\n",
       "      <th>ChronicCond_Alzheimer</th>\n",
       "      <th>ChronicCond_Heartfailure</th>\n",
       "      <th>...</th>\n",
       "      <th>settlement_days.1</th>\n",
       "      <th>Days_Admit</th>\n",
       "      <th>Total_deductible</th>\n",
       "      <th>Total_deductible.1</th>\n",
       "      <th>Total_reimbursible</th>\n",
       "      <th>Total_reimbursible.1</th>\n",
       "      <th>ClaimID</th>\n",
       "      <th>State</th>\n",
       "      <th>County</th>\n",
       "      <th>PotentialFraud</th>\n",
       "    </tr>\n",
       "  </thead>\n",
       "  <tbody>\n",
       "    <tr>\n",
       "      <th>0</th>\n",
       "      <td>PRV51001</td>\n",
       "      <td>20</td>\n",
       "      <td>5</td>\n",
       "      <td>11</td>\n",
       "      <td>5</td>\n",
       "      <td>14</td>\n",
       "      <td>5</td>\n",
       "      <td>8</td>\n",
       "      <td>15</td>\n",
       "      <td>19</td>\n",
       "      <td>...</td>\n",
       "      <td>0</td>\n",
       "      <td>1.000000</td>\n",
       "      <td>1361.040000</td>\n",
       "      <td>34026</td>\n",
       "      <td>20221.200000</td>\n",
       "      <td>505530</td>\n",
       "      <td>25</td>\n",
       "      <td>1</td>\n",
       "      <td>7</td>\n",
       "      <td>0</td>\n",
       "    </tr>\n",
       "    <tr>\n",
       "      <th>1</th>\n",
       "      <td>PRV51003</td>\n",
       "      <td>70</td>\n",
       "      <td>62</td>\n",
       "      <td>58</td>\n",
       "      <td>58</td>\n",
       "      <td>44</td>\n",
       "      <td>7</td>\n",
       "      <td>22</td>\n",
       "      <td>56</td>\n",
       "      <td>80</td>\n",
       "      <td>...</td>\n",
       "      <td>0</td>\n",
       "      <td>2.424242</td>\n",
       "      <td>1668.545455</td>\n",
       "      <td>220248</td>\n",
       "      <td>10246.363636</td>\n",
       "      <td>1352520</td>\n",
       "      <td>132</td>\n",
       "      <td>3</td>\n",
       "      <td>23</td>\n",
       "      <td>1</td>\n",
       "    </tr>\n",
       "    <tr>\n",
       "      <th>2</th>\n",
       "      <td>PRV51004</td>\n",
       "      <td>149</td>\n",
       "      <td>0</td>\n",
       "      <td>25</td>\n",
       "      <td>0</td>\n",
       "      <td>38</td>\n",
       "      <td>19</td>\n",
       "      <td>26</td>\n",
       "      <td>64</td>\n",
       "      <td>88</td>\n",
       "      <td>...</td>\n",
       "      <td>0</td>\n",
       "      <td>0.000000</td>\n",
       "      <td>1057.704698</td>\n",
       "      <td>157598</td>\n",
       "      <td>6546.778523</td>\n",
       "      <td>975470</td>\n",
       "      <td>149</td>\n",
       "      <td>9</td>\n",
       "      <td>28</td>\n",
       "      <td>0</td>\n",
       "    </tr>\n",
       "    <tr>\n",
       "      <th>3</th>\n",
       "      <td>PRV51005</td>\n",
       "      <td>1164</td>\n",
       "      <td>0</td>\n",
       "      <td>158</td>\n",
       "      <td>0</td>\n",
       "      <td>6</td>\n",
       "      <td>6</td>\n",
       "      <td>4</td>\n",
       "      <td>426</td>\n",
       "      <td>679</td>\n",
       "      <td>...</td>\n",
       "      <td>0</td>\n",
       "      <td>0.000000</td>\n",
       "      <td>1013.544674</td>\n",
       "      <td>1179766</td>\n",
       "      <td>5531.168385</td>\n",
       "      <td>6438280</td>\n",
       "      <td>1165</td>\n",
       "      <td>4</td>\n",
       "      <td>26</td>\n",
       "      <td>1</td>\n",
       "    </tr>\n",
       "    <tr>\n",
       "      <th>4</th>\n",
       "      <td>PRV51007</td>\n",
       "      <td>69</td>\n",
       "      <td>3</td>\n",
       "      <td>17</td>\n",
       "      <td>3</td>\n",
       "      <td>10</td>\n",
       "      <td>5</td>\n",
       "      <td>7</td>\n",
       "      <td>26</td>\n",
       "      <td>40</td>\n",
       "      <td>...</td>\n",
       "      <td>0</td>\n",
       "      <td>0.222222</td>\n",
       "      <td>914.722222</td>\n",
       "      <td>65860</td>\n",
       "      <td>4779.722222</td>\n",
       "      <td>344140</td>\n",
       "      <td>72</td>\n",
       "      <td>2</td>\n",
       "      <td>6</td>\n",
       "      <td>0</td>\n",
       "    </tr>\n",
       "  </tbody>\n",
       "</table>\n",
       "<p>5 rows × 41 columns</p>\n",
       "</div>"
      ],
      "text/plain": [
       "   Provider  inp_out  inp_out.1  ClmAdmitDiagnosisCode  DiagnosisGroupCode  \\\n",
       "0  PRV51001       20          5                     11                   5   \n",
       "1  PRV51003       70         62                     58                  58   \n",
       "2  PRV51004      149          0                     25                   0   \n",
       "3  PRV51005     1164          0                    158                   0   \n",
       "4  PRV51007       69          3                     17                   3   \n",
       "\n",
       "   AttendingPhysician  OperatingPhysician  OtherPhysician  \\\n",
       "0                  14                   5               8   \n",
       "1                  44                   7              22   \n",
       "2                  38                  19              26   \n",
       "3                   6                   6               4   \n",
       "4                  10                   5               7   \n",
       "\n",
       "   ChronicCond_Alzheimer  ChronicCond_Heartfailure  ...  settlement_days.1  \\\n",
       "0                     15                        19  ...                  0   \n",
       "1                     56                        80  ...                  0   \n",
       "2                     64                        88  ...                  0   \n",
       "3                    426                       679  ...                  0   \n",
       "4                     26                        40  ...                  0   \n",
       "\n",
       "   Days_Admit  Total_deductible  Total_deductible.1  Total_reimbursible  \\\n",
       "0    1.000000       1361.040000               34026        20221.200000   \n",
       "1    2.424242       1668.545455              220248        10246.363636   \n",
       "2    0.000000       1057.704698              157598         6546.778523   \n",
       "3    0.000000       1013.544674             1179766         5531.168385   \n",
       "4    0.222222        914.722222               65860         4779.722222   \n",
       "\n",
       "   Total_reimbursible.1  ClaimID  State  County  PotentialFraud  \n",
       "0                505530       25      1       7               0  \n",
       "1               1352520      132      3      23               1  \n",
       "2                975470      149      9      28               0  \n",
       "3               6438280     1165      4      26               1  \n",
       "4                344140       72      2       6               0  \n",
       "\n",
       "[5 rows x 41 columns]"
      ]
     },
     "execution_count": 3,
     "metadata": {},
     "output_type": "execute_result"
    }
   ],
   "source": [
    "provider = pd.read_csv('provider.csv')\n",
    "provider.drop(provider.columns[0], axis=1, inplace=True)\n",
    "provider.head()"
   ]
  },
  {
   "cell_type": "code",
   "execution_count": 4,
   "metadata": {},
   "outputs": [
    {
     "data": {
      "text/plain": [
       "Index(['Provider', 'inp_out', 'inp_out.1', 'ClmAdmitDiagnosisCode',\n",
       "       'DiagnosisGroupCode', 'AttendingPhysician', 'OperatingPhysician',\n",
       "       'OtherPhysician', 'ChronicCond_Alzheimer', 'ChronicCond_Heartfailure',\n",
       "       'ChronicCond_KidneyDisease', 'ChronicCond_Cancer',\n",
       "       'ChronicCond_ObstrPulmonary', 'ChronicCond_Depression',\n",
       "       'ChronicCond_Diabetes', 'ChronicCond_IschemicHeart',\n",
       "       'ChronicCond_Osteoporasis', 'ChronicCond_rheumatoidarthritis',\n",
       "       'ChronicCond_stroke', 'Gender', 'RenalDiseaseIndicator',\n",
       "       'InscClaimAmtReimbursed', 'InscClaimAmtReimbursed.1',\n",
       "       'IPAnnualReimbursementAmt', 'IPAnnualReimbursementAmt.1',\n",
       "       'IPAnnualDeductibleAmt', 'IPAnnualDeductibleAmt.1',\n",
       "       'OPAnnualReimbursementAmt', 'IPAnnualDeductibleAmt.2', 'Age',\n",
       "       'settlement_days', 'settlement_days.1', 'Days_Admit',\n",
       "       'Total_deductible', 'Total_deductible.1', 'Total_reimbursible',\n",
       "       'Total_reimbursible.1', 'ClaimID', 'State', 'County', 'PotentialFraud'],\n",
       "      dtype='object')"
      ]
     },
     "execution_count": 4,
     "metadata": {},
     "output_type": "execute_result"
    }
   ],
   "source": [
    "provider.columns"
   ]
  },
  {
   "cell_type": "markdown",
   "metadata": {},
   "source": [
    " Train-Test Split for Potential Fraud Prediction"
   ]
  },
  {
   "cell_type": "code",
   "execution_count": 5,
   "metadata": {},
   "outputs": [
    {
     "name": "stdout",
     "output_type": "stream",
     "text": [
      "X_train shape: (4328, 39)\n",
      "X_test shape: (1082, 39)\n",
      "y_train shape: (4328,)\n",
      "y_test shape: (1082,)\n"
     ]
    }
   ],
   "source": [
    "\n",
    "# Perform train-test split for potential fraud prediction\n",
    "X = provider.drop(columns = ['PotentialFraud', 'Provider'], axis = 1)\n",
    "y = provider['PotentialFraud']\n",
    "\n",
    "X_train, X_test, y_train, y_test = train_test_split(X, y, random_state = 42, test_size=0.2)\n",
    "\n",
    "print(\"X_train shape:\", X_train.shape)\n",
    "print(\"X_test shape:\", X_test.shape)\n",
    "print(\"y_train shape:\", y_train.shape)\n",
    "print(\"y_test shape:\", y_test.shape)"
   ]
  },
  {
   "cell_type": "markdown",
   "metadata": {},
   "source": [
    "Creating functions \n"
   ]
  },
  {
   "cell_type": "code",
   "execution_count": 6,
   "metadata": {},
   "outputs": [],
   "source": [
    "def create_model(X_train, y_train, X_test, classifier):\n",
    "    \"\"\"Function that takes in the data, creates the model using the classifier, and performs prediction\"\"\"\n",
    "    # Instantiate the model\n",
    "    model = classifier \n",
    "    \n",
    "    # Fit the model on the training data\n",
    "    model.fit(X_train, y_train)\n",
    "    \n",
    "    # Make predictions on the test data\n",
    "    y_pred = model.predict(X_test)\n",
    "    \n",
    "    return model, y_pred"
   ]
  },
  {
   "cell_type": "code",
   "execution_count": 7,
   "metadata": {},
   "outputs": [],
   "source": [
    "#function for evaluation metrics \n",
    "def evaluation(y_test, y_pred):\n",
    "    \"\"\"\n",
    "    A function to print evaluation metrics and classification report of a model\n",
    "    \"\"\"\n",
    "    auc = roc_auc_score(y_test, y_pred)\n",
    "    print(f\"The model has an AUC score of {auc:.2%}\")\n",
    "    print(\"-----------------------------------------------\")\n",
    "    print(f\"The model's recall rate is {recall_score(y_test, y_pred, average='weighted'):.2%}\")\n",
    "    print(\"-----------------------------------------------\")\n",
    "    print(f\"The model's precision is {precision_score(y_test, y_pred, average='weighted'):.2%}\")\n",
    "    print(\"-----------------------------------------------\")\n",
    "    print(f\"The model's F1 score is {f1_score(y_test, y_pred, average='weighted'):.2%}\")\n",
    "    print(\"-----------------------------------------------\")\n",
    "    print(\"Classification Report:\")\n",
    "    print(classification_report(y_test, y_pred))"
   ]
  },
  {
   "cell_type": "code",
   "execution_count": 8,
   "metadata": {},
   "outputs": [],
   "source": [
    "def display_confusion_matrix(y_test, y_pred, cmap='GnBu'):\n",
    "    \"\"\"Display confusion matrix\"\"\"\n",
    "    cm = confusion_matrix(y_test, y_pred)\n",
    "    fig, ax = plt.subplots()\n",
    "    im = ax.imshow(cm, interpolation='nearest', cmap=cmap)\n",
    "    ax.figure.colorbar(im, ax=ax)\n",
    "    ax.set(xticks=np.arange(cm.shape[1]),\n",
    "           yticks=np.arange(cm.shape[0]),\n",
    "           xticklabels=['not_fraud', 'fraud'],\n",
    "           yticklabels=['not_fraud', 'fraud'],\n",
    "           xlabel='Predicted label',\n",
    "           ylabel='True label',\n",
    "           title='Confusion Matrix')\n",
    "    plt.setp(ax.get_xticklabels(), rotation=45, ha=\"right\", rotation_mode=\"anchor\")\n",
    "    fmt = '.4g'\n",
    "    thresh = cm.max() / 2.\n",
    "    for i in range(cm.shape[0]):\n",
    "        for j in range(cm.shape[1]):\n",
    "            ax.text(j, i, format(cm[i, j], fmt),\n",
    "                    ha=\"center\", va=\"center\",\n",
    "                    color=\"white\" if cm[i, j] > thresh else \"darkblue\")\n",
    "    ax.grid(False)\n",
    "    fig.tight_layout()\n",
    "    plt.show()"
   ]
  },
  {
   "cell_type": "code",
   "execution_count": 9,
   "metadata": {},
   "outputs": [],
   "source": [
    "def plot_roc_curve(model, X_test, y_test):\n",
    "    \"\"\"Plot ROC curve for a binary classification model\"\"\"\n",
    "    if hasattr(model, \"predict_proba\"):\n",
    "        y_score = model.predict_proba(X_test)[:, 1]  # Use predict_proba if available\n",
    "    else:\n",
    "        y_score = model.decision_function(X_test)  # Use decision_function as an alternative\n",
    "    \n",
    "    # Calculate False Positive Rate (FPR) and True Positive Rate (TPR) using roc_curve\n",
    "    fpr, tpr, thresholds = roc_curve(y_test, y_score)\n",
    "    \n",
    "    # Plot the ROC curve\n",
    "    plt.plot(fpr, tpr, color='darkorange', lw=2, label='ROC curve')\n",
    "    plt.plot([0, 1], [0, 1], color='navy', lw=2, linestyle='--')\n",
    "    plt.xlim([0.0, 1.0])\n",
    "    plt.ylim([0.0, 1.05])\n",
    "    plt.yticks([i/20.0 for i in range(21)])\n",
    "    plt.xlabel('False Positive Rate')\n",
    "    plt.ylabel('True Positive Rate')\n",
    "    plt.title('Receiver Operating Characteristic (ROC) Curve')\n",
    "    plt.legend(loc='lower right')\n",
    "    plt.show()"
   ]
  },
  {
   "cell_type": "code",
   "execution_count": 10,
   "metadata": {},
   "outputs": [
    {
     "name": "stdout",
     "output_type": "stream",
     "text": [
      "The model has an AUC score of 68.50%\n",
      "-----------------------------------------------\n",
      "The model's recall rate is 92.24%\n",
      "-----------------------------------------------\n",
      "The model's precision is 91.16%\n",
      "-----------------------------------------------\n",
      "The model's F1 score is 91.29%\n",
      "-----------------------------------------------\n",
      "Classification Report:\n",
      "              precision    recall  f1-score   support\n",
      "\n",
      "           0       0.94      0.98      0.96       977\n",
      "           1       0.67      0.39      0.49       105\n",
      "\n",
      "    accuracy                           0.92      1082\n",
      "   macro avg       0.80      0.69      0.73      1082\n",
      "weighted avg       0.91      0.92      0.91      1082\n",
      "\n"
     ]
    }
   ],
   "source": [
    "model, y_pred = create_model(X_train, y_train, X_test, classifier=KNeighborsClassifier())\n",
    "evaluation(y_test, y_pred)"
   ]
  },
  {
   "cell_type": "markdown",
   "metadata": {},
   "source": [
    "## `Baseline Model`\n",
    "\n",
    "#### Building a random model"
   ]
  },
  {
   "cell_type": "code",
   "execution_count": 11,
   "metadata": {},
   "outputs": [
    {
     "name": "stdout",
     "output_type": "stream",
     "text": [
      "Training Accuracy: 51.25%\n",
      "Test Accuracy: 50.46%\n"
     ]
    }
   ],
   "source": [
    "train_data_len = X_train.shape[0]\n",
    "\n",
    "# Define the list of possible output values\n",
    "op_list = [0, 1]\n",
    "\n",
    "# Initialize an array to store the predicted values\n",
    "train_predicted_y = np.zeros(train_data_len)\n",
    "\n",
    "# Generate random predictions for the training set\n",
    "for i in range(train_data_len):\n",
    "    train_predicted_y[i] = random.choice(op_list)\n",
    "\n",
    "# Evaluate the performance of the random model on the training set\n",
    "train_accuracy = np.mean(train_predicted_y == y_train)\n",
    "print(\"Training Accuracy: {:.2f}%\".format(train_accuracy * 100))\n",
    "\n",
    "# Generate random predictions for the test set\n",
    "test_data_len = X_test.shape[0]\n",
    "test_predicted_y = np.zeros(test_data_len)\n",
    "for i in range(test_data_len):\n",
    "    test_predicted_y[i] = random.choice(op_list)\n",
    "\n",
    "# Evaluate the performance of the random model on the test set\n",
    "test_accuracy = np.mean(test_predicted_y == y_test)\n",
    "print(\"Test Accuracy: {:.2f}%\".format(test_accuracy * 100))"
   ]
  },
  {
   "cell_type": "markdown",
   "metadata": {},
   "source": [
    "### `Checking and Handling Class Imbalance`\n",
    "\n",
    "#### Sampling Techniques \n",
    "\n",
    "- Undersampling technique\n",
    "\n",
    "- oversampling technique\n",
    "\n",
    "- Hybrid sampling technique"
   ]
  },
  {
   "cell_type": "code",
   "execution_count": 12,
   "metadata": {},
   "outputs": [
    {
     "name": "stdout",
     "output_type": "stream",
     "text": [
      "The number of classes before fit: Counter({0: 3927, 1: 401})\n",
      "The number of classes after fit: Counter({0: 501, 1: 401})\n"
     ]
    }
   ],
   "source": [
    "# undersampling technique\n",
    "from imblearn.under_sampling import NearMiss\n",
    "from collections import Counter\n",
    "\n",
    "# Create an instance of NearMiss with a sampling ratio of 0.8\n",
    "ns = NearMiss(sampling_strategy=0.8)\n",
    "\n",
    "# Apply undersampling to the training data\n",
    "x_train_ns, y_train_ns = ns.fit_resample(X_train, y_train)\n",
    "\n",
    "# Print the class distribution before and after undersampling\n",
    "print(\"The number of classes before fit: {}\".format(Counter(y_train)))\n",
    "print(\"The number of classes after fit: {}\".format(Counter(y_train_ns)))\n"
   ]
  },
  {
   "cell_type": "markdown",
   "metadata": {},
   "source": [
    "`Decision Tree with undersampling`"
   ]
  },
  {
   "cell_type": "code",
   "execution_count": 13,
   "metadata": {},
   "outputs": [],
   "source": [
    "model, y_pred = create_model(x_train_ns, y_train_ns, X_test, classifier=DecisionTreeClassifier(random_state=42))\n"
   ]
  },
  {
   "cell_type": "code",
   "execution_count": 14,
   "metadata": {},
   "outputs": [
    {
     "name": "stdout",
     "output_type": "stream",
     "text": [
      "The model has an AUC score of 61.67%\n",
      "-----------------------------------------------\n",
      "The model's recall rate is 40.76%\n",
      "-----------------------------------------------\n",
      "The model's precision is 88.29%\n",
      "-----------------------------------------------\n",
      "The model's F1 score is 49.23%\n",
      "-----------------------------------------------\n",
      "Classification Report:\n",
      "              precision    recall  f1-score   support\n",
      "\n",
      "           0       0.96      0.36      0.52       977\n",
      "           1       0.13      0.88      0.22       105\n",
      "\n",
      "    accuracy                           0.41      1082\n",
      "   macro avg       0.55      0.62      0.37      1082\n",
      "weighted avg       0.88      0.41      0.49      1082\n",
      "\n"
     ]
    }
   ],
   "source": [
    "evaluation(y_test, y_pred)"
   ]
  },
  {
   "cell_type": "markdown",
   "metadata": {},
   "source": [
    "`Random Forest with undersampling`"
   ]
  },
  {
   "cell_type": "code",
   "execution_count": 15,
   "metadata": {},
   "outputs": [],
   "source": [
    "model, y_pred = create_model(x_train_ns, y_train_ns, X_test, classifier=RandomForestClassifier(random_state=42))\n"
   ]
  },
  {
   "cell_type": "code",
   "execution_count": 16,
   "metadata": {},
   "outputs": [
    {
     "name": "stdout",
     "output_type": "stream",
     "text": [
      "The model has an AUC score of 68.90%\n",
      "-----------------------------------------------\n",
      "The model's recall rate is 53.05%\n",
      "-----------------------------------------------\n",
      "The model's precision is 89.63%\n",
      "-----------------------------------------------\n",
      "The model's F1 score is 61.69%\n",
      "-----------------------------------------------\n",
      "Classification Report:\n",
      "              precision    recall  f1-score   support\n",
      "\n",
      "           0       0.98      0.49      0.65       977\n",
      "           1       0.16      0.89      0.27       105\n",
      "\n",
      "    accuracy                           0.53      1082\n",
      "   macro avg       0.57      0.69      0.46      1082\n",
      "weighted avg       0.90      0.53      0.62      1082\n",
      "\n"
     ]
    }
   ],
   "source": [
    "evaluation(y_test, y_pred)"
   ]
  },
  {
   "cell_type": "code",
   "execution_count": 17,
   "metadata": {},
   "outputs": [
    {
     "name": "stdout",
     "output_type": "stream",
     "text": [
      "The number of classes before fit: Counter({0: 3927, 1: 401})\n",
      "The number of classes after fit: Counter({0: 3927, 1: 2945})\n"
     ]
    }
   ],
   "source": [
    "# oversampling technique\n",
    "\n",
    "from collections import Counter\n",
    "from imblearn.over_sampling import RandomOverSampler\n",
    "\n",
    "# Assuming X_train and y_train are defined and assigned values correctly\n",
    "\n",
    "os = RandomOverSampler(sampling_strategy=0.75)\n",
    "x_train_os, y_train_os = os.fit_resample(X_train, y_train)\n",
    "\n",
    "print(\"The number of classes before fit: {}\".format(Counter(y_train)))\n",
    "print(\"The number of classes after fit: {}\".format(Counter(y_train_os)))\n"
   ]
  },
  {
   "cell_type": "markdown",
   "metadata": {},
   "source": [
    "`Decision tree with oversampling technique`"
   ]
  },
  {
   "cell_type": "code",
   "execution_count": 18,
   "metadata": {},
   "outputs": [],
   "source": [
    "model, y_pred = create_model(x_train_os, y_train_os, X_test, classifier=DecisionTreeClassifier(random_state=42))\n"
   ]
  },
  {
   "cell_type": "code",
   "execution_count": 19,
   "metadata": {},
   "outputs": [
    {
     "name": "stdout",
     "output_type": "stream",
     "text": [
      "The model has an AUC score of 69.19%\n",
      "-----------------------------------------------\n",
      "The model's recall rate is 89.65%\n",
      "-----------------------------------------------\n",
      "The model's precision is 89.39%\n",
      "-----------------------------------------------\n",
      "The model's F1 score is 89.51%\n",
      "-----------------------------------------------\n",
      "Classification Report:\n",
      "              precision    recall  f1-score   support\n",
      "\n",
      "           0       0.94      0.95      0.94       977\n",
      "           1       0.46      0.44      0.45       105\n",
      "\n",
      "    accuracy                           0.90      1082\n",
      "   macro avg       0.70      0.69      0.70      1082\n",
      "weighted avg       0.89      0.90      0.90      1082\n",
      "\n"
     ]
    }
   ],
   "source": [
    "evaluation(y_test, y_pred)"
   ]
  },
  {
   "cell_type": "markdown",
   "metadata": {},
   "source": [
    "`random forest with over sampling technique`"
   ]
  },
  {
   "cell_type": "code",
   "execution_count": 20,
   "metadata": {},
   "outputs": [],
   "source": [
    "model, y_pred = create_model(x_train_os, y_train_os, X_test, classifier=RandomForestClassifier(random_state=42))\n"
   ]
  },
  {
   "cell_type": "code",
   "execution_count": 21,
   "metadata": {},
   "outputs": [
    {
     "name": "stdout",
     "output_type": "stream",
     "text": [
      "The model has an AUC score of 72.07%\n",
      "-----------------------------------------------\n",
      "The model's recall rate is 91.77%\n",
      "-----------------------------------------------\n",
      "The model's precision is 91.10%\n",
      "-----------------------------------------------\n",
      "The model's F1 score is 91.36%\n",
      "-----------------------------------------------\n",
      "Classification Report:\n",
      "              precision    recall  f1-score   support\n",
      "\n",
      "           0       0.94      0.97      0.95       977\n",
      "           1       0.60      0.48      0.53       105\n",
      "\n",
      "    accuracy                           0.92      1082\n",
      "   macro avg       0.77      0.72      0.74      1082\n",
      "weighted avg       0.91      0.92      0.91      1082\n",
      "\n"
     ]
    }
   ],
   "source": [
    "evaluation(y_test, y_pred)"
   ]
  },
  {
   "cell_type": "markdown",
   "metadata": {},
   "source": [
    "`Hybrid sampling technique`"
   ]
  },
  {
   "cell_type": "code",
   "execution_count": 22,
   "metadata": {},
   "outputs": [
    {
     "name": "stdout",
     "output_type": "stream",
     "text": [
      "The number of classes before fit: Counter({0: 3927, 1: 401})\n",
      "The number of classes after fit: Counter({0: 3881, 1: 3881})\n"
     ]
    }
   ],
   "source": [
    "st = SMOTETomek()\n",
    "x_train_st, y_train_st = st.fit_resample(X_train, y_train)\n",
    "\n",
    "print(\"The number of classes before fit: {}\".format(Counter(y_train)))\n",
    "print(\"The number of classes after fit: {}\".format(Counter(y_train_st)))"
   ]
  },
  {
   "cell_type": "markdown",
   "metadata": {},
   "source": [
    "`Decision tree Hybrid sampling technique`"
   ]
  },
  {
   "cell_type": "code",
   "execution_count": 23,
   "metadata": {},
   "outputs": [],
   "source": [
    "model, y_pred = create_model(x_train_st, y_train_st, X_test, classifier=DecisionTreeClassifier(random_state=42))\n"
   ]
  },
  {
   "cell_type": "code",
   "execution_count": 24,
   "metadata": {},
   "outputs": [
    {
     "name": "stdout",
     "output_type": "stream",
     "text": [
      "The model has an AUC score of 75.51%\n",
      "-----------------------------------------------\n",
      "The model's recall rate is 87.25%\n",
      "-----------------------------------------------\n",
      "The model's precision is 90.13%\n",
      "-----------------------------------------------\n",
      "The model's F1 score is 88.40%\n",
      "-----------------------------------------------\n",
      "Classification Report:\n",
      "              precision    recall  f1-score   support\n",
      "\n",
      "           0       0.96      0.90      0.93       977\n",
      "           1       0.40      0.61      0.48       105\n",
      "\n",
      "    accuracy                           0.87      1082\n",
      "   macro avg       0.68      0.76      0.70      1082\n",
      "weighted avg       0.90      0.87      0.88      1082\n",
      "\n"
     ]
    }
   ],
   "source": [
    "evaluation(y_test, y_pred)"
   ]
  },
  {
   "cell_type": "markdown",
   "metadata": {},
   "source": [
    "`Random Forest hybrid sampling technique`"
   ]
  },
  {
   "cell_type": "code",
   "execution_count": 25,
   "metadata": {},
   "outputs": [],
   "source": [
    "model, y_pred = create_model(x_train_st, y_train_st, X_test, classifier=RandomForestClassifier(random_state=42))\n"
   ]
  },
  {
   "cell_type": "code",
   "execution_count": 26,
   "metadata": {},
   "outputs": [
    {
     "name": "stdout",
     "output_type": "stream",
     "text": [
      "The model has an AUC score of 79.70%\n",
      "-----------------------------------------------\n",
      "The model's recall rate is 90.20%\n",
      "-----------------------------------------------\n",
      "The model's precision is 91.75%\n",
      "-----------------------------------------------\n",
      "The model's F1 score is 90.83%\n",
      "-----------------------------------------------\n",
      "Classification Report:\n",
      "              precision    recall  f1-score   support\n",
      "\n",
      "           0       0.96      0.93      0.94       977\n",
      "           1       0.50      0.67      0.57       105\n",
      "\n",
      "    accuracy                           0.90      1082\n",
      "   macro avg       0.73      0.80      0.76      1082\n",
      "weighted avg       0.92      0.90      0.91      1082\n",
      "\n"
     ]
    }
   ],
   "source": [
    "evaluation(y_test, y_pred)"
   ]
  },
  {
   "cell_type": "markdown",
   "metadata": {},
   "source": [
    "Scaling the Numerical Features \n"
   ]
  },
  {
   "cell_type": "code",
   "execution_count": 27,
   "metadata": {},
   "outputs": [],
   "source": [
    "from sklearn.preprocessing import StandardScaler\n",
    "\n",
    "# Instantiate the scaler\n",
    "scaler = StandardScaler()\n",
    "\n",
    "# Fit the scaler on the training data and transform both training and test data\n",
    "X_train_scaled = scaler.fit_transform(x_train_st)\n",
    "X_test_scaled = scaler.transform(X_test)"
   ]
  },
  {
   "cell_type": "markdown",
   "metadata": {},
   "source": [
    "## 2. `KNN Model`"
   ]
  },
  {
   "cell_type": "code",
   "execution_count": 28,
   "metadata": {},
   "outputs": [
    {
     "name": "stdout",
     "output_type": "stream",
     "text": [
      "The model has an AUC score of 80.01%\n",
      "-----------------------------------------------\n",
      "The model's recall rate is 83.09%\n",
      "-----------------------------------------------\n",
      "The model's precision is 90.88%\n",
      "-----------------------------------------------\n",
      "The model's F1 score is 85.75%\n",
      "-----------------------------------------------\n",
      "Classification Report:\n",
      "              precision    recall  f1-score   support\n",
      "\n",
      "           0       0.97      0.84      0.90       977\n",
      "           1       0.34      0.76      0.47       105\n",
      "\n",
      "    accuracy                           0.83      1082\n",
      "   macro avg       0.65      0.80      0.68      1082\n",
      "weighted avg       0.91      0.83      0.86      1082\n",
      "\n"
     ]
    }
   ],
   "source": [
    "model, y_pred = create_model(X_train_scaled, y_train_st, X_test_scaled, classifier=KNeighborsClassifier())\n",
    "evaluation(y_test, y_pred)"
   ]
  },
  {
   "cell_type": "code",
   "execution_count": 29,
   "metadata": {},
   "outputs": [
    {
     "data": {
      "image/png": "[encoded data removed]",
      "text/plain": [
       "<Figure size 432x288 with 1 Axes>"
      ]
     },
     "metadata": {
      "needs_background": "light"
     },
     "output_type": "display_data"
    }
   ],
   "source": [
    "\n",
    "plot_roc_curve(model, X_test_scaled, y_test)"
   ]
  },
  {
   "cell_type": "code",
   "execution_count": 30,
   "metadata": {},
   "outputs": [
    {
     "data": {
      "image/png": "[encoded data removed]",
      "text/plain": [
       "<Figure size 432x288 with 2 Axes>"
      ]
     },
     "metadata": {
      "needs_background": "light"
     },
     "output_type": "display_data"
    }
   ],
   "source": [
    "\n",
    "display_confusion_matrix(y_test, y_pred)"
   ]
  },
  {
   "cell_type": "markdown",
   "metadata": {},
   "source": [
    "## 3. `Decision Trees Model`"
   ]
  },
  {
   "cell_type": "code",
   "execution_count": 31,
   "metadata": {},
   "outputs": [
    {
     "name": "stdout",
     "output_type": "stream",
     "text": [
      "The model has an AUC score of 75.51%\n",
      "-----------------------------------------------\n",
      "The model's recall rate is 87.25%\n",
      "-----------------------------------------------\n",
      "The model's precision is 90.13%\n",
      "-----------------------------------------------\n",
      "The model's F1 score is 88.40%\n",
      "-----------------------------------------------\n",
      "Classification Report:\n",
      "              precision    recall  f1-score   support\n",
      "\n",
      "           0       0.96      0.90      0.93       977\n",
      "           1       0.40      0.61      0.48       105\n",
      "\n",
      "    accuracy                           0.87      1082\n",
      "   macro avg       0.68      0.76      0.70      1082\n",
      "weighted avg       0.90      0.87      0.88      1082\n",
      "\n"
     ]
    }
   ],
   "source": [
    "model, y_pred = create_model(X_train_scaled, y_train_st, X_test_scaled, classifier=DecisionTreeClassifier(random_state=42))\n",
    "\n",
    "evaluation(y_test, y_pred)"
   ]
  },
  {
   "cell_type": "code",
   "execution_count": 32,
   "metadata": {},
   "outputs": [
    {
     "data": {
      "image/png": "[encoded data removed]",
      "text/plain": [
       "<Figure size 432x288 with 1 Axes>"
      ]
     },
     "metadata": {
      "needs_background": "light"
     },
     "output_type": "display_data"
    }
   ],
   "source": [
    "\n",
    "plot_roc_curve(model, X_test_scaled, y_test)"
   ]
  },
  {
   "cell_type": "code",
   "execution_count": 33,
   "metadata": {},
   "outputs": [
    {
     "data": {
      "image/png": "[encoded data removed]",
      "text/plain": [
       "<Figure size 432x288 with 2 Axes>"
      ]
     },
     "metadata": {
      "needs_background": "light"
     },
     "output_type": "display_data"
    }
   ],
   "source": [
    "\n",
    "display_confusion_matrix(y_test, y_pred)"
   ]
  },
  {
   "cell_type": "markdown",
   "metadata": {},
   "source": [
    "## 4. `SVM`"
   ]
  },
  {
   "cell_type": "code",
   "execution_count": 34,
   "metadata": {},
   "outputs": [
    {
     "name": "stdout",
     "output_type": "stream",
     "text": [
      "The model has an AUC score of 85.03%\n",
      "-----------------------------------------------\n",
      "The model's recall rate is 86.78%\n",
      "-----------------------------------------------\n",
      "The model's precision is 92.41%\n",
      "-----------------------------------------------\n",
      "The model's F1 score is 88.63%\n",
      "-----------------------------------------------\n",
      "Classification Report:\n",
      "              precision    recall  f1-score   support\n",
      "\n",
      "           0       0.98      0.87      0.92       977\n",
      "           1       0.41      0.83      0.55       105\n",
      "\n",
      "    accuracy                           0.87      1082\n",
      "   macro avg       0.69      0.85      0.74      1082\n",
      "weighted avg       0.92      0.87      0.89      1082\n",
      "\n"
     ]
    }
   ],
   "source": [
    "model, y_pred = create_model(X_train_scaled, y_train_st, X_test_scaled, classifier=SVC(random_state=42))\n",
    "evaluation(y_test, y_pred)"
   ]
  },
  {
   "cell_type": "code",
   "execution_count": 35,
   "metadata": {},
   "outputs": [
    {
     "data": {
      "image/png": "[encoded data removed]",
      "text/plain": [
       "<Figure size 432x288 with 1 Axes>"
      ]
     },
     "metadata": {
      "needs_background": "light"
     },
     "output_type": "display_data"
    }
   ],
   "source": [
    "plot_roc_curve(model, X_test_scaled, y_test)"
   ]
  },
  {
   "cell_type": "code",
   "execution_count": 36,
   "metadata": {},
   "outputs": [
    {
     "data": {
      "image/png": "[encoded data removed]",
      "text/plain": [
       "<Figure size 432x288 with 2 Axes>"
      ]
     },
     "metadata": {
      "needs_background": "light"
     },
     "output_type": "display_data"
    }
   ],
   "source": [
    "display_confusion_matrix(y_test, y_pred)"
   ]
  },
  {
   "cell_type": "markdown",
   "metadata": {},
   "source": [
    "## 5. `Gradientboost model`"
   ]
  },
  {
   "cell_type": "code",
   "execution_count": 37,
   "metadata": {},
   "outputs": [
    {
     "name": "stdout",
     "output_type": "stream",
     "text": [
      "The model has an AUC score of 84.86%\n",
      "-----------------------------------------------\n",
      "The model's recall rate is 87.25%\n",
      "-----------------------------------------------\n",
      "The model's precision is 92.41%\n",
      "-----------------------------------------------\n",
      "The model's F1 score is 88.96%\n",
      "-----------------------------------------------\n",
      "Classification Report:\n",
      "              precision    recall  f1-score   support\n",
      "\n",
      "           0       0.98      0.88      0.93       977\n",
      "           1       0.42      0.82      0.55       105\n",
      "\n",
      "    accuracy                           0.87      1082\n",
      "   macro avg       0.70      0.85      0.74      1082\n",
      "weighted avg       0.92      0.87      0.89      1082\n",
      "\n"
     ]
    }
   ],
   "source": [
    "\n",
    "model, y_pred = create_model(X_train_scaled, y_train_st, X_test_scaled, classifier=GradientBoostingClassifier(random_state=42))\n",
    "evaluation(y_test, y_pred)"
   ]
  },
  {
   "cell_type": "code",
   "execution_count": 38,
   "metadata": {},
   "outputs": [
    {
     "data": {
      "image/png": "[encoded data removed]",
      "text/plain": [
       "<Figure size 432x288 with 1 Axes>"
      ]
     },
     "metadata": {
      "needs_background": "light"
     },
     "output_type": "display_data"
    }
   ],
   "source": [
    "\n",
    "plot_roc_curve(model, X_test_scaled, y_test)"
   ]
  },
  {
   "cell_type": "code",
   "execution_count": 39,
   "metadata": {},
   "outputs": [
    {
     "data": {
      "image/png": "[encoded data removed]",
      "text/plain": [
       "<Figure size 432x288 with 2 Axes>"
      ]
     },
     "metadata": {
      "needs_background": "light"
     },
     "output_type": "display_data"
    }
   ],
   "source": [
    "\n",
    "display_confusion_matrix(y_test, y_pred)"
   ]
  },
  {
   "cell_type": "markdown",
   "metadata": {},
   "source": [
    "## 5. `Logistic regression Model`"
   ]
  },
  {
   "cell_type": "code",
   "execution_count": 40,
   "metadata": {},
   "outputs": [
    {
     "name": "stdout",
     "output_type": "stream",
     "text": [
      "The model has an AUC score of 82.67%\n",
      "-----------------------------------------------\n",
      "The model's recall rate is 87.89%\n",
      "-----------------------------------------------\n",
      "The model's precision is 91.95%\n",
      "-----------------------------------------------\n",
      "The model's F1 score is 89.32%\n",
      "-----------------------------------------------\n",
      "Classification Report:\n",
      "              precision    recall  f1-score   support\n",
      "\n",
      "           0       0.97      0.89      0.93       977\n",
      "           1       0.43      0.76      0.55       105\n",
      "\n",
      "    accuracy                           0.88      1082\n",
      "   macro avg       0.70      0.83      0.74      1082\n",
      "weighted avg       0.92      0.88      0.89      1082\n",
      "\n"
     ]
    },
    {
     "name": "stderr",
     "output_type": "stream",
     "text": [
      "c:\\Users\\User\\anaconda3\\lib\\site-packages\\sklearn\\linear_model\\_logistic.py:814: ConvergenceWarning: lbfgs failed to converge (status=1):\n",
      "STOP: TOTAL NO. of ITERATIONS REACHED LIMIT.\n",
      "\n",
      "Increase the number of iterations (max_iter) or scale the data as shown in:\n",
      "    https://scikit-learn.org/stable/modules/preprocessing.html\n",
      "Please also refer to the documentation for alternative solver options:\n",
      "    https://scikit-learn.org/stable/modules/linear_model.html#logistic-regression\n",
      "  n_iter_i = _check_optimize_result(\n"
     ]
    }
   ],
   "source": [
    "model, y_pred = create_model(X_train_scaled, y_train_st, X_test_scaled, classifier=LogisticRegression(random_state=42))\n",
    "evaluation(y_test, y_pred)"
   ]
  },
  {
   "cell_type": "code",
   "execution_count": 41,
   "metadata": {},
   "outputs": [
    {
     "data": {
      "image/png": "[encoded data removed]",
      "text/plain": [
       "<Figure size 432x288 with 1 Axes>"
      ]
     },
     "metadata": {
      "needs_background": "light"
     },
     "output_type": "display_data"
    }
   ],
   "source": [
    "plot_roc_curve(model, X_test_scaled, y_test)\n"
   ]
  },
  {
   "cell_type": "code",
   "execution_count": 42,
   "metadata": {},
   "outputs": [
    {
     "data": {
      "image/png": "[encoded data removed]",
      "text/plain": [
       "<Figure size 432x288 with 2 Axes>"
      ]
     },
     "metadata": {
      "needs_background": "light"
     },
     "output_type": "display_data"
    }
   ],
   "source": [
    "display_confusion_matrix(y_test, y_pred)"
   ]
  },
  {
   "cell_type": "markdown",
   "metadata": {},
   "source": [
    "## 6. `XGBoost`"
   ]
  },
  {
   "cell_type": "code",
   "execution_count": 43,
   "metadata": {},
   "outputs": [],
   "source": [
    "model, y_pred = create_model(X_train_scaled, y_train_st, X_test_scaled, classifier=XGBClassifier(random_state=42))"
   ]
  },
  {
   "cell_type": "code",
   "execution_count": 44,
   "metadata": {},
   "outputs": [
    {
     "name": "stdout",
     "output_type": "stream",
     "text": [
      "The model has an AUC score of 77.27%\n",
      "-----------------------------------------------\n",
      "The model's recall rate is 89.65%\n",
      "-----------------------------------------------\n",
      "The model's precision is 91.08%\n",
      "-----------------------------------------------\n",
      "The model's F1 score is 90.25%\n",
      "-----------------------------------------------\n",
      "Classification Report:\n",
      "              precision    recall  f1-score   support\n",
      "\n",
      "           0       0.96      0.93      0.94       977\n",
      "           1       0.47      0.62      0.54       105\n",
      "\n",
      "    accuracy                           0.90      1082\n",
      "   macro avg       0.72      0.77      0.74      1082\n",
      "weighted avg       0.91      0.90      0.90      1082\n",
      "\n"
     ]
    }
   ],
   "source": [
    "evaluation(y_test, y_pred)"
   ]
  },
  {
   "cell_type": "code",
   "execution_count": 45,
   "metadata": {},
   "outputs": [
    {
     "data": {
      "image/png": "[encoded data removed]",
      "text/plain": [
       "<Figure size 432x288 with 1 Axes>"
      ]
     },
     "metadata": {
      "needs_background": "light"
     },
     "output_type": "display_data"
    }
   ],
   "source": [
    "plot_roc_curve(model, X_test_scaled, y_test)"
   ]
  },
  {
   "cell_type": "code",
   "execution_count": 46,
   "metadata": {},
   "outputs": [
    {
     "data": {
      "image/png": "[encoded data removed]",
      "text/plain": [
       "<Figure size 432x288 with 2 Axes>"
      ]
     },
     "metadata": {
      "needs_background": "light"
     },
     "output_type": "display_data"
    }
   ],
   "source": [
    "display_confusion_matrix(y_test, y_pred)"
   ]
  },
  {
   "cell_type": "markdown",
   "metadata": {},
   "source": [
    "hypertuning "
   ]
  },
  {
   "cell_type": "code",
   "execution_count": 47,
   "metadata": {},
   "outputs": [],
   "source": [
    "class XGBoostModel:\n",
    "    def __init__(self, random_state=42):\n",
    "        self.random_state = random_state\n",
    "        self.best_estimator = None\n",
    "    \n",
    "    def train_best_estimator(self, X_train, y_train):\n",
    "        self.best_estimator = XGBClassifier(subsample=1, n_estimators=100, max_depth=3, colsample_bytree=1, learning_rate=0.1, random_state=self.random_state)\n",
    "        self.best_estimator.fit(X_train, y_train)\n",
    "    \n",
    "    def evaluate_best_estimator(self, X_test, y_test):\n",
    "        y_pred_proba = self.best_estimator.predict_proba(X_test)[:, 1]\n",
    "        auc = roc_auc_score(y_test, y_pred_proba)\n",
    "        y_pred_binary = (y_pred_proba >= 0.5).astype(int)\n",
    "        recall = recall_score(y_test, y_pred_binary, average='weighted')\n",
    "        precision = precision_score(y_test, y_pred_binary, average='weighted')\n",
    "        f1 = f1_score(y_test, y_pred_binary, average='weighted')\n",
    "        print(f\"The model has an AUC score of {auc:.2%}\")\n",
    "        print(\"-----------------------------------------------\")\n",
    "        print(f\"The model's recall rate is {recall:.2%}\")\n",
    "        print(\"-----------------------------------------------\")\n",
    "        print(f\"The model's precision is {precision:.2%}\")\n",
    "        print(\"-----------------------------------------------\")\n",
    "        print(f\"The model's F1 score is {f1:.2%}\")\n",
    "        print(\"-----------------------------------------------\")\n",
    "        print(\"Classification Report:\")\n",
    "        print(classification_report(y_test, y_pred_binary))\n",
    "    \n",
    "    def display_confusion_matrix(self, X_test, y_test):\n",
    "        y_pred = self.best_estimator.predict(X_test)\n",
    "        cm = confusion_matrix(y_test, y_pred)\n",
    "        plt.matshow(cm, cmap=plt.cm.Blues)\n",
    "        plt.colorbar()\n",
    "        plt.xlabel('Predicted label')\n",
    "        plt.ylabel('True label')\n",
    "        plt.xticks([0, 1], ['Negative', 'Positive'])\n",
    "        plt.yticks([0, 1], ['Negative', 'Positive'])\n",
    "        plt.title('Confusion matrix')\n",
    "        plt.show()"
   ]
  },
  {
   "cell_type": "code",
   "execution_count": 48,
   "metadata": {},
   "outputs": [],
   "source": [
    "# Instantiate the XGBoostModel class\n",
    "model = XGBoostModel(random_state=42)\n",
    "\n",
    "# Train the model\n",
    "model.train_best_estimator(X_train_scaled, y_train_st)\n"
   ]
  },
  {
   "cell_type": "code",
   "execution_count": 49,
   "metadata": {},
   "outputs": [
    {
     "name": "stdout",
     "output_type": "stream",
     "text": [
      "The model has an AUC score of 92.30%\n",
      "-----------------------------------------------\n",
      "The model's recall rate is 87.15%\n",
      "-----------------------------------------------\n",
      "The model's precision is 92.07%\n",
      "-----------------------------------------------\n",
      "The model's F1 score is 88.83%\n",
      "-----------------------------------------------\n",
      "Classification Report:\n",
      "              precision    recall  f1-score   support\n",
      "\n",
      "           0       0.98      0.88      0.93       977\n",
      "           1       0.41      0.79      0.54       105\n",
      "\n",
      "    accuracy                           0.87      1082\n",
      "   macro avg       0.70      0.84      0.73      1082\n",
      "weighted avg       0.92      0.87      0.89      1082\n",
      "\n"
     ]
    }
   ],
   "source": [
    "# Evaluate the model\n",
    "model.evaluate_best_estimator(X_test_scaled, y_test)"
   ]
  },
  {
   "cell_type": "markdown",
   "metadata": {},
   "source": [
    "## 7. `Random Forest Model`"
   ]
  },
  {
   "cell_type": "code",
   "execution_count": 50,
   "metadata": {},
   "outputs": [
    {
     "name": "stdout",
     "output_type": "stream",
     "text": [
      "The model has an AUC score of 79.70%\n",
      "-----------------------------------------------\n",
      "The model's recall rate is 90.20%\n",
      "-----------------------------------------------\n",
      "The model's precision is 91.75%\n",
      "-----------------------------------------------\n",
      "The model's F1 score is 90.83%\n",
      "-----------------------------------------------\n",
      "Classification Report:\n",
      "              precision    recall  f1-score   support\n",
      "\n",
      "           0       0.96      0.93      0.94       977\n",
      "           1       0.50      0.67      0.57       105\n",
      "\n",
      "    accuracy                           0.90      1082\n",
      "   macro avg       0.73      0.80      0.76      1082\n",
      "weighted avg       0.92      0.90      0.91      1082\n",
      "\n"
     ]
    }
   ],
   "source": [
    "\n",
    "model, y_pred = create_model(X_train_scaled, y_train_st, X_test_scaled, classifier=RandomForestClassifier(random_state=42))\n",
    "evaluation(y_test, y_pred)"
   ]
  },
  {
   "cell_type": "code",
   "execution_count": 51,
   "metadata": {},
   "outputs": [
    {
     "data": {
      "image/png": "[encoded data removed]",
      "text/plain": [
       "<Figure size 432x288 with 1 Axes>"
      ]
     },
     "metadata": {
      "needs_background": "light"
     },
     "output_type": "display_data"
    }
   ],
   "source": [
    "plot_roc_curve(model, X_test_scaled, y_test)\n"
   ]
  },
  {
   "cell_type": "code",
   "execution_count": 52,
   "metadata": {},
   "outputs": [
    {
     "data": {
      "image/png": "[encoded data removed]",
      "text/plain": [
       "<Figure size 432x288 with 2 Axes>"
      ]
     },
     "metadata": {
      "needs_background": "light"
     },
     "output_type": "display_data"
    }
   ],
   "source": [
    "display_confusion_matrix(y_test, y_pred)"
   ]
  },
  {
   "cell_type": "code",
   "execution_count": 53,
   "metadata": {},
   "outputs": [],
   "source": [
    "class RandomForestModel:\n",
    "    def __init__(self, random_state=42):\n",
    "        self.random_state = random_state\n",
    "        self.model = None\n",
    "    \n",
    "    def train(self, X_train, y_train):\n",
    "        self.model = RandomForestClassifier(random_state=self.random_state)\n",
    "        self.model.fit(X_train, y_train)\n",
    "    \n",
    "    def evaluate(self, X_test, y_test):\n",
    "        y_pred = self.model.predict(X_test)\n",
    "        self.evaluation(y_test, y_pred)\n",
    "        return y_pred\n",
    "    \n",
    "    def tune_hyperparameters(self, X_train, y_train):\n",
    "        # Define the parameter grid\n",
    "        param_grid = {\n",
    "            'n_estimators': [100, 200, 500],\n",
    "            'max_depth': [3, 5, 7],\n",
    "            'min_samples_split': [2, 5, 10],\n",
    "            'min_samples_leaf': [1, 2, 4],\n",
    "            'max_features': ['sqrt', 'log2']\n",
    "        }\n",
    "        \n",
    "        # Create a GridSearchCV object\n",
    "        grid_search = GridSearchCV(estimator=RandomForestClassifier(random_state=self.random_state), param_grid=param_grid, scoring='f1', cv=5, n_jobs=-1)\n",
    "        \n",
    "        # Fit the GridSearchCV object to the training data\n",
    "        grid_search.fit(X_train, y_train)\n",
    "        \n",
    "        # Get the best estimator\n",
    "        self.model = grid_search.best_estimator_\n",
    "    \n",
    "    def evaluation(self, y_true, y_pred):\n",
    "        auc_score = roc_auc_score(y_true, y_pred)\n",
    "        print(f\"The model has an AUC score of {auc_score*100:.2f}%\")\n",
    "        print(\"-----------------------------------------------\")\n",
    "        \n",
    "        tn, fp, fn, tp = confusion_matrix(y_true, y_pred).ravel()\n",
    "        recall = tp / (tp + fn)\n",
    "        precision = tp / (tp + fp)\n",
    "        f1_score = 2 * (precision * recall) / (precision + recall)\n",
    "        print(f\"The model's recall rate is {recall*100:.2f}%\")\n",
    "        print(\"-----------------------------------------------\")\n",
    "        print(f\"The model's precision is {precision*100:.2f}%\")\n",
    "        print(\"-----------------------------------------------\")\n",
    "        print(f\"The model's F1 score is {f1_score*100:.2f}%\")\n",
    "        print(\"-----------------------------------------------\")\n",
    "        print(\"Classification Report:\")\n",
    "        print(classification_report(y_true, y_pred))\n",
    "    \n",
    "    def plot_roc_curve(self, X_test, y_test):\n",
    "        y_pred_proba = self.model.predict_proba(X_test)[:, 1]\n",
    "        auc_score = roc_auc_score(y_test, y_pred_proba)\n",
    "        fpr, tpr, _ = roc_curve(y_test, y_pred_proba)\n",
    "        plt.plot(fpr, tpr, label=f'AUC = {auc_score:.2f}')\n",
    "        plt.plot([0, 1], [0, 1], 'k--')\n",
    "        plt.xlabel('False positive rate')\n",
    "        plt.ylabel('True positive rate')\n",
    "        plt.title('ROC curve')\n",
    "        plt.legend()\n",
    "        plt.show()\n",
    "    \n",
    "    def display_confusion_matrix(self, y_true, y_pred):\n",
    "        cm = confusion_matrix(y_true, y_pred)\n",
    "        plt.matshow(cm, cmap=plt.cm.Blues)\n",
    "        plt.colorbar()\n",
    "        plt.xlabel('Predicted label')\n",
    "        plt.ylabel('True label')\n",
    "        plt.xticks([0, 1], ['Negative', 'Positive'])\n",
    "        plt.yticks([0, 1], ['Negative', 'Positive'])\n",
    "        plt.title('Confusion matrix')\n",
    "        plt.show()"
   ]
  },
  {
   "cell_type": "code",
   "execution_count": 54,
   "metadata": {},
   "outputs": [],
   "source": [
    "model = RandomForestModel(random_state=42)\n",
    "model.train(X_train_scaled, y_train_st)"
   ]
  },
  {
   "cell_type": "code",
   "execution_count": 55,
   "metadata": {},
   "outputs": [
    {
     "name": "stdout",
     "output_type": "stream",
     "text": [
      "The model has an AUC score of 79.70%\n",
      "-----------------------------------------------\n",
      "The model's recall rate is 66.67%\n",
      "-----------------------------------------------\n",
      "The model's precision is 49.65%\n",
      "-----------------------------------------------\n",
      "The model's F1 score is 56.91%\n",
      "-----------------------------------------------\n",
      "Classification Report:\n",
      "              precision    recall  f1-score   support\n",
      "\n",
      "           0       0.96      0.93      0.94       977\n",
      "           1       0.50      0.67      0.57       105\n",
      "\n",
      "    accuracy                           0.90      1082\n",
      "   macro avg       0.73      0.80      0.76      1082\n",
      "weighted avg       0.92      0.90      0.91      1082\n",
      "\n"
     ]
    }
   ],
   "source": [
    "y_pred = model.evaluate(X_test_scaled, y_test)"
   ]
  },
  {
   "cell_type": "code",
   "execution_count": 57,
   "metadata": {},
   "outputs": [],
   "source": [
    "model.tune_hyperparameters(X_train_scaled, y_train_st)"
   ]
  },
  {
   "cell_type": "code",
   "execution_count": null,
   "metadata": {},
   "outputs": [],
   "source": [
    "y_pred_tuned = model.evaluate(X_test, y_test)"
   ]
  },
  {
   "cell_type": "code",
   "execution_count": null,
   "metadata": {},
   "outputs": [],
   "source": [
    "\n",
    "model.plot_roc_curve(X_test, y_test)\n",
    "model.display_confusion_matrix(y_test, y_pred_tuned)"
   ]
  },
  {
   "cell_type": "code",
   "execution_count": null,
   "metadata": {},
   "outputs": [],
   "source": []
  },
  {
   "cell_type": "code",
   "execution_count": null,
   "metadata": {},
   "outputs": [],
   "source": [
    "from xgboost import XGBClassifier\n",
    "xgb_tuned = XGBClassifier(subsample=1,n_estimators= 100,max_depth= 3,colsample_bytree=1,learning_rate= 0.1)\n",
    "xgb_tuned.fit(X_train_scaled, y_train_st)\n",
    "\n",
    "train_y_pred = xgb_tuned.predict_proba(X_train_scaled)\n",
    "train_y_pred = train_y_pred[:,1]\n"
   ]
  },
  {
   "cell_type": "code",
   "execution_count": null,
   "metadata": {},
   "outputs": [
    {
     "name": "stdout",
     "output_type": "stream",
     "text": [
      "The model has an AUC score of 97.96%\n",
      "-----------------------------------------------\n",
      "The model's recall rate is 93.39%\n",
      "-----------------------------------------------\n",
      "The model's precision is 93.49%\n",
      "-----------------------------------------------\n",
      "The model's F1 score is 93.39%\n",
      "-----------------------------------------------\n",
      "Classification Report:\n",
      "              precision    recall  f1-score   support\n",
      "\n",
      "           0       0.96      0.91      0.93      3632\n",
      "           1       0.91      0.96      0.94      3632\n",
      "\n",
      "    accuracy                           0.93      7264\n",
      "   macro avg       0.93      0.93      0.93      7264\n",
      "weighted avg       0.93      0.93      0.93      7264\n",
      "\n"
     ]
    }
   ],
   "source": [
    "from sklearn.metrics import roc_auc_score, recall_score, precision_score, f1_score, classification_report\n",
    "\n",
    "# Convert probabilities to binary predictions using a threshold (e.g., 0.5)\n",
    "train_y_pred_binary = (train_y_pred >= 0.5).astype(int)\n",
    "\n",
    "# Calculate evaluation metrics\n",
    "auc = roc_auc_score(y_train_st, train_y_pred)\n",
    "recall = recall_score(y_train_st, train_y_pred_binary, average='weighted')\n",
    "precision = precision_score(y_train_st, train_y_pred_binary, average='weighted')\n",
    "f1 = f1_score(y_train_st, train_y_pred_binary, average='weighted')\n",
    "\n",
    "# Print evaluation metrics\n",
    "print(f\"The model has an AUC score of {auc:.2%}\")\n",
    "print(\"-----------------------------------------------\")\n",
    "print(f\"The model's recall rate is {recall:.2%}\")\n",
    "print(\"-----------------------------------------------\")\n",
    "print(f\"The model's precision is {precision:.2%}\")\n",
    "print(\"-----------------------------------------------\")\n",
    "print(f\"The model's F1 score is {f1:.2%}\")\n",
    "print(\"-----------------------------------------------\")\n",
    "\n",
    "# Print classification report\n",
    "print(\"Classification Report:\")\n",
    "print(classification_report(y_train_st, train_y_pred_binary))\n"
   ]
  },
  {
   "cell_type": "code",
   "execution_count": null,
   "metadata": {},
   "outputs": [],
   "source": []
  }
 ],
 "metadata": {
  "kernelspec": {
   "display_name": "base",
   "language": "python",
   "name": "python3"
  },
  "language_info": {
   "codemirror_mode": {
    "name": "ipython",
    "version": 3
   },
   "file_extension": ".py",
   "mimetype": "text/x-python",
   "name": "python",
   "nbconvert_exporter": "python",
   "pygments_lexer": "ipython3",
   "version": "3.9.12"
  },
  "orig_nbformat": 4
 },
 "nbformat": 4,
 "nbformat_minor": 2
}
